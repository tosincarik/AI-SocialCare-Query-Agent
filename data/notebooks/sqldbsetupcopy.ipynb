{
 "cells": [
  {
   "cell_type": "code",
   "execution_count": 23,
   "id": "2fdabefe",
   "metadata": {},
   "outputs": [],
   "source": [
    "import sqlite3\n",
    "import os\n",
    "from faker import Faker\n",
    "import random\n",
    "import asyncio\n",
    "\n"
   ]
  },
  {
   "cell_type": "code",
   "execution_count": 24,
   "id": "e457e46a",
   "metadata": {},
   "outputs": [],
   "source": [
    "\n",
    "# Ensure the 'data' folder exists\n",
    "os.makedirs('data', exist_ok=True)\n",
    "\n",
    "# Define the database path\n",
    "db_path = os.path.join('data', 'synthetic_socialcare2.db')\n",
    "\n",
    "# Connect to the SQLite database (creates the file if it doesn't exist)\n",
    "conn = sqlite3.connect(db_path)\n",
    "cursor = conn.cursor()\n",
    "\n",
    "\n"
   ]
  },
  {
   "cell_type": "markdown",
   "id": "51f6a32e",
   "metadata": {},
   "source": [
    "### Defined SQLite database schema for social care tables: clients, assessments, services, outcomes."
   ]
  },
  {
   "cell_type": "code",
   "execution_count": 25,
   "id": "b52e5c18",
   "metadata": {},
   "outputs": [
    {
     "name": "stdout",
     "output_type": "stream",
     "text": [
      "Tables created successfully.\n"
     ]
    }
   ],
   "source": [
    "\n",
    "# Connect to database (creates file if not exists)\n",
    "conn = sqlite3.connect(\"data/synthetic_socialcare2.db\")\n",
    "cursor = conn.cursor()\n",
    "\n",
    "# Drop old tables (if running again for testing)\n",
    "cursor.execute(\"DROP TABLE IF EXISTS clients\")\n",
    "cursor.execute(\"DROP TABLE IF EXISTS assessments\")\n",
    "cursor.execute(\"DROP TABLE IF EXISTS services\")\n",
    "cursor.execute(\"DROP TABLE IF EXISTS outcomes\")\n",
    "\n",
    "# Create Clients table\n",
    "cursor.execute(\"\"\"\n",
    "CREATE TABLE clients (\n",
    "    client_id INTEGER PRIMARY KEY,\n",
    "    name TEXT NOT NULL,\n",
    "    age INTEGER,\n",
    "    gender TEXT,\n",
    "    postcode TEXT\n",
    ")\n",
    "\"\"\")\n",
    "\n",
    "# Create Assessments table\n",
    "cursor.execute(\"\"\"\n",
    "CREATE TABLE assessments (\n",
    "    assessment_id INTEGER PRIMARY KEY AUTOINCREMENT,\n",
    "    client_id INTEGER,\n",
    "    assessment_date TEXT,\n",
    "    assessment_type TEXT,\n",
    "    assessor TEXT,\n",
    "    FOREIGN KEY (client_id) REFERENCES clients(client_id)\n",
    ")\n",
    "\"\"\")\n",
    "\n",
    "# Create Services table\n",
    "cursor.execute(\"\"\"\n",
    "CREATE TABLE services (\n",
    "    service_id INTEGER PRIMARY KEY AUTOINCREMENT,\n",
    "    client_id INTEGER,\n",
    "    service_name TEXT,\n",
    "    start_date TEXT,\n",
    "    end_date TEXT,\n",
    "    provider TEXT,\n",
    "    FOREIGN KEY (client_id) REFERENCES clients(client_id)\n",
    ")\n",
    "\"\"\")\n",
    "\n",
    "# Create Outcomes table\n",
    "cursor.execute(\"\"\"\n",
    "CREATE TABLE outcomes (\n",
    "    outcome_id INTEGER PRIMARY KEY AUTOINCREMENT,\n",
    "    client_id INTEGER,\n",
    "    outcome_date TEXT,\n",
    "    outcome_type TEXT,\n",
    "    outcome_value TEXT,\n",
    "    FOREIGN KEY (client_id) REFERENCES clients(client_id)\n",
    ")\n",
    "\"\"\")\n",
    "\n",
    "# Save changes\n",
    "conn.commit()\n",
    "print(\"Tables created successfully.\")\n",
    "\n",
    "conn.close()\n"
   ]
  },
  {
   "cell_type": "markdown",
   "id": "97a56ae3",
   "metadata": {},
   "source": [
    "### Populated tables with synthetic data using Faker."
   ]
  },
  {
   "cell_type": "code",
   "execution_count": 26,
   "id": "3c8bd151",
   "metadata": {},
   "outputs": [
    {
     "name": "stdout",
     "output_type": "stream",
     "text": [
      "Synthetic data inserted with consistent client_id.\n"
     ]
    },
    {
     "name": "stderr",
     "output_type": "stream",
     "text": [
      "C:\\Users\\Admin\\AppData\\Local\\Temp\\ipykernel_39700\\4038071988.py:23: DeprecationWarning: The default date adapter is deprecated as of Python 3.12; see the sqlite3 documentation for suggested replacement recipes\n",
      "  cursor.execute(\"\"\"\n",
      "C:\\Users\\Admin\\AppData\\Local\\Temp\\ipykernel_39700\\4038071988.py:37: DeprecationWarning: The default date adapter is deprecated as of Python 3.12; see the sqlite3 documentation for suggested replacement recipes\n",
      "  cursor.execute(\"\"\"\n",
      "C:\\Users\\Admin\\AppData\\Local\\Temp\\ipykernel_39700\\4038071988.py:50: DeprecationWarning: The default date adapter is deprecated as of Python 3.12; see the sqlite3 documentation for suggested replacement recipes\n",
      "  cursor.execute(\"\"\"\n"
     ]
    }
   ],
   "source": [
    "\n",
    "# Setup\n",
    "fake = Faker(\"en_GB\")  # UK-style data\n",
    "conn = sqlite3.connect(\"data/synthetic_socialcare2.db\")\n",
    "cursor = conn.cursor()\n",
    "\n",
    "# Number of synthetic clients\n",
    "N_CLIENTS = 50\n",
    "\n",
    "for client_id in range(1, N_CLIENTS + 1):\n",
    "    # ---------- CLIENT ----------\n",
    "    name = fake.name()\n",
    "    age = random.randint(18, 95)\n",
    "    gender = random.choice([\"Male\", \"Female\"])\n",
    "    postcode = fake.postcode()\n",
    "    \n",
    "    cursor.execute(\"\"\"\n",
    "    INSERT INTO clients (client_id, name, age, gender, postcode)\n",
    "    VALUES (?, ?, ?, ?, ?)\n",
    "    \"\"\", (client_id, name, age, gender, postcode))\n",
    "    \n",
    "    # ---------- ASSESSMENTS ----------\n",
    "    for _ in range(random.randint(1, 3)):  # 1–3 assessments per client\n",
    "        cursor.execute(\"\"\"\n",
    "        INSERT INTO assessments (client_id, assessment_date, assessment_type, assessor)\n",
    "        VALUES (?, ?, ?, ?)\n",
    "        \"\"\", (\n",
    "            client_id,\n",
    "            fake.date_between(start_date=\"-2y\", end_date=\"today\"),\n",
    "            random.choice([\"Care Act\", \"Financial\", \"Risk\"]),\n",
    "            fake.name()\n",
    "        ))\n",
    "    \n",
    "    # ---------- SERVICES ----------\n",
    "    for _ in range(random.randint(1, 2)):  # 1–2 services per client\n",
    "        start_date = fake.date_between(start_date=\"-2y\", end_date=\"-1m\")\n",
    "        end_date = fake.date_between(start_date=start_date, end_date=\"today\")\n",
    "        cursor.execute(\"\"\"\n",
    "        INSERT INTO services (client_id, service_name, start_date, end_date, provider)\n",
    "        VALUES (?, ?, ?, ?, ?)\n",
    "        \"\"\", (\n",
    "            client_id,\n",
    "            random.choice([\"Home Care\", \"Residential Care\", \"Day Centre\", \"Direct Payment\"]),\n",
    "            start_date,\n",
    "            end_date,\n",
    "            random.choice([\"Local Authority\", \"Private Agency\", \"Charity\"])\n",
    "        ))\n",
    "    \n",
    "    # ---------- OUTCOMES ----------\n",
    "    for _ in range(random.randint(1, 2)):  # 1–2 outcomes per client\n",
    "        cursor.execute(\"\"\"\n",
    "        INSERT INTO outcomes (client_id, outcome_date, outcome_type, outcome_value)\n",
    "        VALUES (?, ?, ?, ?)\n",
    "        \"\"\", (\n",
    "            client_id,\n",
    "            fake.date_between(start_date=\"-1y\", end_date=\"today\"),\n",
    "            random.choice([\"Independence\", \"Wellbeing\", \"Safety\", \"Financial\"]),\n",
    "            random.choice([\"Improved\", \"Maintained\", \"Declined\"])\n",
    "        ))\n",
    "\n",
    "# Save changes\n",
    "conn.commit()\n",
    "print(\"Synthetic data inserted with consistent client_id.\")\n",
    "\n",
    "conn.close()\n"
   ]
  },
  {
   "cell_type": "code",
   "execution_count": 27,
   "id": "73d48476",
   "metadata": {},
   "outputs": [
    {
     "name": "stdout",
     "output_type": "stream",
     "text": [
      "[('sqlite_sequence',), ('clients',), ('assessments',), ('services',), ('outcomes',)]\n"
     ]
    }
   ],
   "source": [
    "\n",
    "conn = sqlite3.connect(\"data/synthetic_socialcare2.db\")\n",
    "cursor = conn.cursor()\n",
    "\n",
    "cursor.execute(\"SELECT name FROM sqlite_master WHERE type='table';\")\n",
    "print(cursor.fetchall())\n",
    "\n",
    "conn.close()\n"
   ]
  },
  {
   "cell_type": "code",
   "execution_count": 28,
   "id": "1f216050",
   "metadata": {},
   "outputs": [],
   "source": [
    "# Example schema dictionary\n",
    "schema = {\n",
    "    \"clients\": [\"client_id\", \"name\", \"age\", \"gender\", \"postcode\"],\n",
    "    \"assessments\": [\"assessment_id\", \"client_id\", \"assessment_date\", \"outcome\"],\n",
    "    \"services\": [\"service_id\", \"client_id\", \"service_name\", \"start_date\", \"end_date\"],\n",
    "    \"outcomes\": [\"client_id\", \"outcome_date\", \"outcome_type\", \"outcome_value\"]\n",
    "}\n"
   ]
  },
  {
   "cell_type": "markdown",
   "id": "0a7e4250",
   "metadata": {},
   "source": [
    "## Build AI SQL Generator"
   ]
  },
  {
   "cell_type": "markdown",
   "id": "bccbb0ee",
   "metadata": {},
   "source": [
    "### Setup Environment and API keys"
   ]
  },
  {
   "cell_type": "code",
   "execution_count": 29,
   "id": "93588d7f",
   "metadata": {},
   "outputs": [],
   "source": [
    "from openai import OpenAI\n",
    "from dotenv import load_dotenv\n",
    "from agents import Agent, Runner, trace, function_tool\n",
    "import os\n",
    "import asyncio"
   ]
  },
  {
   "cell_type": "code",
   "execution_count": 30,
   "id": "12535213",
   "metadata": {},
   "outputs": [
    {
     "data": {
      "text/plain": [
       "True"
      ]
     },
     "execution_count": 30,
     "metadata": {},
     "output_type": "execute_result"
    }
   ],
   "source": [
    "load_dotenv(override=True)"
   ]
  },
  {
   "cell_type": "code",
   "execution_count": 31,
   "id": "ca3ef06b",
   "metadata": {},
   "outputs": [
    {
     "name": "stdout",
     "output_type": "stream",
     "text": [
      "The key is found and starts with: sk-proj-\n"
     ]
    }
   ],
   "source": [
    "openaikey = os.getenv(\"OPENAI_API_KEY\")\n",
    "\n",
    "if openaikey:\n",
    "    print(f\"The key is found and starts with: {openaikey[:8]}\")\n",
    "else:\n",
    "    print(f\"Key not found\")"
   ]
  },
  {
   "cell_type": "markdown",
   "id": "cbb26696",
   "metadata": {},
   "source": [
    "#### SQL execution function to run read-only queries on SQLite DB."
   ]
  },
  {
   "cell_type": "code",
   "execution_count": 32,
   "id": "57c39961",
   "metadata": {},
   "outputs": [],
   "source": [
    " @function_tool\n",
    " def execute_sql(query: str):\n",
    "    \"\"\"Run a read-only SQL query on the SQLite DB.\"\"\"\n",
    "    with sqlite3.connect(db_path) as conn:\n",
    "        cursor = conn.cursor()\n",
    "        cursor.execute(query)\n",
    "        rows = cursor.fetchall()\n",
    "        colnames = [desc[0] for desc in cursor.description]\n",
    "    return [dict(zip(colnames, row)) for row in rows]"
   ]
  },
  {
   "cell_type": "markdown",
   "id": "99ddd653",
   "metadata": {},
   "source": [
    "#### Configure Agent instance (QueryExecutor) with gpt-4o-mini model."
   ]
  },
  {
   "cell_type": "code",
   "execution_count": 33,
   "id": "c3349398",
   "metadata": {},
   "outputs": [],
   "source": [
    "instruction1 = f\"\"\"\n",
    "You are a SQL assistant for adult social care data.\n",
    "Always generate SELECT-only SQL for the SQLite schema provided.\n",
    "Never use DROP, INSERT, UPDATE, DELETE, ALTER, ATTACH, or PRAGMA.\n",
    "Return strictly JSON with keys:\n",
    "- sql: the SQL query string\n",
    "- explanation: a short (1-2 sentence) explanation of the query logic\n",
    "Schema reference: {schema}\n",
    "Make sure the output is a single valid JSON object, nothing else.\n",
    "\"\"\"\n"
   ]
  },
  {
   "cell_type": "code",
   "execution_count": 34,
   "id": "ebf9c2c1",
   "metadata": {},
   "outputs": [],
   "source": [
    "Agent1 = Agent(\n",
    "    name = 'QueryExecutor',\n",
    "    instructions = instruction1,\n",
    "    model = \"gpt-4o-mini\"\n",
    ")\n",
    "\n",
    "tool1=Agent1.as_tool(tool_name='instruct', tool_description=instruction1)"
   ]
  },
  {
   "cell_type": "code",
   "execution_count": 35,
   "id": "af236dd7",
   "metadata": {},
   "outputs": [],
   "source": [
    "tools = [tool1,execute_sql]"
   ]
  },
  {
   "cell_type": "code",
   "execution_count": 41,
   "id": "1002c64f",
   "metadata": {},
   "outputs": [
    {
     "name": "stdout",
     "output_type": "stream",
     "text": [
      "Here are the outcomes for clients aged over 20 years:\n",
      "\n",
      "| Outcome ID | Client ID | Outcome Date | Outcome Type  | Outcome Value |\n",
      "|------------|-----------|--------------|----------------|----------------|\n",
      "| 1          | 1         | 2025-06-19   | Independence    | Maintained      |\n",
      "| 2          | 2         | 2024-10-27   | Financial       | Maintained      |\n",
      "| 3          | 3         | 2025-06-01   | Financial       | Declined       |\n",
      "| 4          | 4         | 2024-12-08   | Wellbeing       | Improved        |\n",
      "| 5          | 5         | 2024-11-09   | Wellbeing       | Maintained      |\n",
      "| 6          | 6         | 2025-03-29   | Independence    | Maintained      |\n",
      "| 7          | 7         | 2025-03-24   | Wellbeing       | Declined       |\n",
      "| 8          | 8         | 2025-06-17   | Financial       | Improved        |\n",
      "| 9          | 9         | 2024-09-27   | Safety          | Improved        |\n",
      "| 10         | 9         | 2025-02-04   | Independence    | Declined       |\n",
      "| 11         | 10        | 2025-03-26   | Wellbeing       | Improved        |\n",
      "| 12         | 11        | 2025-01-05   | Wellbeing       | Improved        |\n",
      "| 13         | 12        | 2025-01-05   | Financial       | Maintained      |\n",
      "| 14         | 12        | 2025-07-07   | Financial       | Declined       |\n",
      "| 15         | 13        | 2025-02-26   | Safety          | Maintained      |\n",
      "| 16         | 13        | 2025-06-28   | Independence    | Improved        |\n",
      "| 17         | 14        | 2025-02-07   | Safety          | Maintained      |\n",
      "| 18         | 14        | 2025-08-26   | Safety          | Improved        |\n",
      "| 19         | 15        | 2024-10-15   | Safety          | Maintained      |\n",
      "| 20         | 15        | 2024-12-08   | Safety          | Maintained      |\n",
      "| 21         | 16        | 2024-10-19   | Independence    | Declined       |\n",
      "| 22         | 16        | 2025-04-02   | Wellbeing       | Improved        |\n",
      "| 23         | 17        | 2025-06-06   | Independence    | Improved        |\n",
      "| 24         | 17        | 2024-11-15   | Safety          | Improved        |\n",
      "| 25         | 18        | 2025-03-21   | Financial       | Declined       |\n",
      "| 26         | 19        | 2025-04-10   | Financial       | Improved        |\n",
      "| 27         | 19        | 2024-09-13   | Financial       | Declined       |\n",
      "| 28         | 20        | 2025-07-25   | Independence    | Improved        |\n",
      "| 29         | 20        | 2025-04-13   | Safety          | Maintained      |\n",
      "| 30         | 21        | 2025-07-01   | Wellbeing       | Maintained      |\n",
      "| 31         | 22        | 2025-07-28   | Financial       | Improved        |\n",
      "| 32         | 22        | 2024-10-09   | Independence    | Declined       |\n",
      "| 33         | 23        | 2025-02-12   | Financial       | Improved        |\n",
      "| 34         | 23        | 2025-02-07   | Safety          | Declined       |\n",
      "| 35         | 24        | 2024-12-25   | Financial       | Maintained      |\n",
      "| 36         | 24        | 2024-10-15   | Safety          | Improved        |\n",
      "| 37         | 25        | 2025-02-03   | Financial       | Improved        |\n",
      "| 38         | 26        | 2024-12-10   | Safety          | Declined       |\n",
      "| 39         | 27        | 2025-03-23   | Safety          | Declined       |\n",
      "| 40         | 27        | 2024-09-14   | Safety          | Maintained      |\n",
      "| 41         | 28        | 2024-09-17   | Wellbeing       | Declined       |\n",
      "| 42         | 28        | 2025-05-06   | Financial       | Declined       |\n",
      "| 43         | 29        | 2025-01-06   | Independence    | Improved        |\n",
      "| 44         | 29        | 2025-04-05   | Financial       | Declined       |\n",
      "| 45         | 30        | 2025-05-27   | Independence    | Declined       |\n",
      "| 46         | 31        | 2025-02-28   | Safety          | Improved        |\n",
      "| 47         | 32        | 2025-04-01   | Wellbeing       | Declined       |\n",
      "| 48         | 32        | 2025-05-06   | Financial       | Declined       |\n",
      "| 49         | 33        | 2024-12-31   | Financial       | Maintained      |\n",
      "| 50         | 34        | 2024-12-03   | Wellbeing       | Maintained      |\n",
      "| 51         | 34        | 2024-12-17   | Safety          | Maintained      |\n",
      "| 52         | 35        | 2025-05-06   | Independence    | Maintained      |\n",
      "| 54         | 37        | 2025-07-11   | Independence    | Improved        |\n",
      "| 55         | 37        | 2025-05-17   | Safety          | Maintained      |\n",
      "| 57         | 39        | 2024-09-10   | Independence    | Improved        |\n",
      "| 58         | 40        | 2024-10-15   | Financial       | Improved        |\n",
      "| 59         | 40        | 2025-05-25   | Wellbeing       | Improved        |\n",
      "| 60         | 41        | 2024-09-03   | Financial       | Maintained      |\n",
      "| 61         | 42        | 2025-04-27   | Safety          | Maintained      |\n",
      "| 62         | 43        | 2025-03-24   | Financial       | Declined       |\n",
      "| 63         | 44        | 2025-01-22   | Wellbeing       | Maintained      |\n",
      "| 64         | 45        | 2025-08-22   | Financial       | Maintained      |\n",
      "| 65         | 46        | 2025-01-30   | Financial       | Declined       |\n",
      "| 66         | 46        | 2025-02-13   | Safety          | Declined       |\n",
      "| 67         | 47        | 2025-03-02   | Financial       | Declined       |\n",
      "| 68         | 47        | 2025-02-17   | Safety          | Maintained      |\n",
      "| 69         | 48        | 2025-04-17   | Wellbeing       | Declined       |\n",
      "| 70         | 48        | 2024-12-12   | Independence    | Maintained      |\n",
      "| 71         | 49        | 2025-03-13   | Independence    | Declined       |\n",
      "| 72         | 49        | 2024-09-20   | Safety          | Declined       |\n",
      "| 73         | 50        | 2025-02-27   | Safety          | Improved        |\n",
      "\n",
      "This table lists all service outcomes for clients over the age of 20, including the outcome type and the value of the outcome.\n"
     ]
    }
   ],
   "source": [
    "instruction2 = \"You are to execute the SQL query you generate and return a clean formatted table. Use the tools provided to you\"\n",
    "\n",
    "resultagent = Agent(\n",
    "    name = \"strictinstruct\",\n",
    "    instructions = instruction2,\n",
    "    tools=tools,\n",
    "    model = 'gpt-4o-mini'\n",
    ")\n",
    "\n",
    "message = \"List the adults aged over 20 years with their service outcome\"\n",
    "\n",
    "with trace(\"resultfinder\"):\n",
    "    result = await Runner.run(resultagent, message)\n",
    "    print(result.final_output)\n"
   ]
  },
  {
   "cell_type": "code",
   "execution_count": null,
   "id": "f63fc0a5",
   "metadata": {},
   "outputs": [],
   "source": []
  },
  {
   "cell_type": "markdown",
   "id": "203887e4",
   "metadata": {},
   "source": [
    "#### LLM-generated SQL queries, executions and results"
   ]
  },
  {
   "cell_type": "code",
   "execution_count": 40,
   "id": "660ca713",
   "metadata": {},
   "outputs": [
    {
     "name": "stdout",
     "output_type": "stream",
     "text": [
      "clients rows: 50\n",
      "services rows: 76\n",
      "outcomes rows: 73\n"
     ]
    }
   ],
   "source": [
    "with sqlite3.connect(db_path) as conn:\n",
    "    cursor = conn.cursor()\n",
    "    tables = [\"clients\", \"services\", \"outcomes\"]\n",
    "    for t in tables:\n",
    "        cursor.execute(f\"SELECT COUNT(*) FROM {t}\")\n",
    "        print(f\"{t} rows:\", cursor.fetchone()[0])\n"
   ]
  }
 ],
 "metadata": {
  "kernelspec": {
   "display_name": ".venv",
   "language": "python",
   "name": "python3"
  },
  "language_info": {
   "codemirror_mode": {
    "name": "ipython",
    "version": 3
   },
   "file_extension": ".py",
   "mimetype": "text/x-python",
   "name": "python",
   "nbconvert_exporter": "python",
   "pygments_lexer": "ipython3",
   "version": "3.13.7"
  }
 },
 "nbformat": 4,
 "nbformat_minor": 5
}
