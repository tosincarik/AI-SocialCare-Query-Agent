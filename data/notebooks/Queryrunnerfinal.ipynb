{
 "cells": [
  {
   "cell_type": "code",
   "execution_count": 1,
   "id": "2fdabefe",
   "metadata": {},
   "outputs": [],
   "source": [
    "import sqlite3\n",
    "import os\n",
    "from faker import Faker\n",
    "import random\n",
    "import asyncio\n",
    "\n"
   ]
  },
  {
   "cell_type": "code",
   "execution_count": 2,
   "id": "e457e46a",
   "metadata": {},
   "outputs": [],
   "source": [
    "\n",
    "# Ensure the 'data' folder exists\n",
    "os.makedirs('data', exist_ok=True)\n",
    "\n",
    "# Define the database path\n",
    "db_path = os.path.join('data', 'synthetic_socialcare2.db')\n",
    "\n",
    "# Connect to the SQLite database (creates the file if it doesn't exist)\n",
    "conn = sqlite3.connect(db_path)\n",
    "cursor = conn.cursor()\n",
    "\n",
    "\n"
   ]
  },
  {
   "cell_type": "markdown",
   "id": "51f6a32e",
   "metadata": {},
   "source": [
    "### Defined SQLite database schema for social care tables: clients, assessments, services, outcomes."
   ]
  },
  {
   "cell_type": "code",
   "execution_count": 3,
   "id": "b52e5c18",
   "metadata": {},
   "outputs": [
    {
     "name": "stdout",
     "output_type": "stream",
     "text": [
      "Tables created successfully.\n"
     ]
    }
   ],
   "source": [
    "\n",
    "# Connect to database (creates file if not exists)\n",
    "conn = sqlite3.connect(\"data/synthetic_socialcare2.db\")\n",
    "cursor = conn.cursor()\n",
    "\n",
    "# Drop old tables (if running again for testing)\n",
    "cursor.execute(\"DROP TABLE IF EXISTS clients\")\n",
    "cursor.execute(\"DROP TABLE IF EXISTS assessments\")\n",
    "cursor.execute(\"DROP TABLE IF EXISTS services\")\n",
    "cursor.execute(\"DROP TABLE IF EXISTS outcomes\")\n",
    "\n",
    "# Create Clients table\n",
    "cursor.execute(\"\"\"\n",
    "CREATE TABLE clients (\n",
    "    client_id INTEGER PRIMARY KEY,\n",
    "    name TEXT NOT NULL,\n",
    "    age INTEGER,\n",
    "    gender TEXT,\n",
    "    postcode TEXT\n",
    ")\n",
    "\"\"\")\n",
    "\n",
    "# Create Assessments table\n",
    "cursor.execute(\"\"\"\n",
    "CREATE TABLE assessments (\n",
    "    assessment_id INTEGER PRIMARY KEY AUTOINCREMENT,\n",
    "    client_id INTEGER,\n",
    "    assessment_date TEXT,\n",
    "    assessment_type TEXT,\n",
    "    assessor TEXT,\n",
    "    FOREIGN KEY (client_id) REFERENCES clients(client_id)\n",
    ")\n",
    "\"\"\")\n",
    "\n",
    "# Create Services table\n",
    "cursor.execute(\"\"\"\n",
    "CREATE TABLE services (\n",
    "    service_id INTEGER PRIMARY KEY AUTOINCREMENT,\n",
    "    client_id INTEGER,\n",
    "    service_name TEXT,\n",
    "    start_date TEXT,\n",
    "    end_date TEXT,\n",
    "    provider TEXT,\n",
    "    FOREIGN KEY (client_id) REFERENCES clients(client_id)\n",
    ")\n",
    "\"\"\")\n",
    "\n",
    "# Create Outcomes table\n",
    "cursor.execute(\"\"\"\n",
    "CREATE TABLE outcomes (\n",
    "    outcome_id INTEGER PRIMARY KEY AUTOINCREMENT,\n",
    "    client_id INTEGER,\n",
    "    outcome_date TEXT,\n",
    "    outcome_type TEXT,\n",
    "    outcome_value TEXT,\n",
    "    FOREIGN KEY (client_id) REFERENCES clients(client_id)\n",
    ")\n",
    "\"\"\")\n",
    "\n",
    "# Save changes\n",
    "conn.commit()\n",
    "print(\"Tables created successfully.\")\n",
    "\n",
    "conn.close()\n"
   ]
  },
  {
   "cell_type": "markdown",
   "id": "97a56ae3",
   "metadata": {},
   "source": [
    "### Populated tables with synthetic data using Faker."
   ]
  },
  {
   "cell_type": "code",
   "execution_count": 4,
   "id": "3c8bd151",
   "metadata": {},
   "outputs": [
    {
     "name": "stdout",
     "output_type": "stream",
     "text": [
      "Synthetic data inserted with consistent client_id.\n"
     ]
    },
    {
     "name": "stderr",
     "output_type": "stream",
     "text": [
      "C:\\Users\\Admin\\AppData\\Local\\Temp\\ipykernel_13408\\4038071988.py:23: DeprecationWarning: The default date adapter is deprecated as of Python 3.12; see the sqlite3 documentation for suggested replacement recipes\n",
      "  cursor.execute(\"\"\"\n",
      "C:\\Users\\Admin\\AppData\\Local\\Temp\\ipykernel_13408\\4038071988.py:37: DeprecationWarning: The default date adapter is deprecated as of Python 3.12; see the sqlite3 documentation for suggested replacement recipes\n",
      "  cursor.execute(\"\"\"\n",
      "C:\\Users\\Admin\\AppData\\Local\\Temp\\ipykernel_13408\\4038071988.py:50: DeprecationWarning: The default date adapter is deprecated as of Python 3.12; see the sqlite3 documentation for suggested replacement recipes\n",
      "  cursor.execute(\"\"\"\n"
     ]
    }
   ],
   "source": [
    "\n",
    "# Setup\n",
    "fake = Faker(\"en_GB\")  # UK-style data\n",
    "conn = sqlite3.connect(\"data/synthetic_socialcare2.db\")\n",
    "cursor = conn.cursor()\n",
    "\n",
    "# Number of synthetic clients\n",
    "N_CLIENTS = 50\n",
    "\n",
    "for client_id in range(1, N_CLIENTS + 1):\n",
    "    # ---------- CLIENT ----------\n",
    "    name = fake.name()\n",
    "    age = random.randint(18, 95)\n",
    "    gender = random.choice([\"Male\", \"Female\"])\n",
    "    postcode = fake.postcode()\n",
    "    \n",
    "    cursor.execute(\"\"\"\n",
    "    INSERT INTO clients (client_id, name, age, gender, postcode)\n",
    "    VALUES (?, ?, ?, ?, ?)\n",
    "    \"\"\", (client_id, name, age, gender, postcode))\n",
    "    \n",
    "    # ---------- ASSESSMENTS ----------\n",
    "    for _ in range(random.randint(1, 3)):  # 1–3 assessments per client\n",
    "        cursor.execute(\"\"\"\n",
    "        INSERT INTO assessments (client_id, assessment_date, assessment_type, assessor)\n",
    "        VALUES (?, ?, ?, ?)\n",
    "        \"\"\", (\n",
    "            client_id,\n",
    "            fake.date_between(start_date=\"-2y\", end_date=\"today\"),\n",
    "            random.choice([\"Care Act\", \"Financial\", \"Risk\"]),\n",
    "            fake.name()\n",
    "        ))\n",
    "    \n",
    "    # ---------- SERVICES ----------\n",
    "    for _ in range(random.randint(1, 2)):  # 1–2 services per client\n",
    "        start_date = fake.date_between(start_date=\"-2y\", end_date=\"-1m\")\n",
    "        end_date = fake.date_between(start_date=start_date, end_date=\"today\")\n",
    "        cursor.execute(\"\"\"\n",
    "        INSERT INTO services (client_id, service_name, start_date, end_date, provider)\n",
    "        VALUES (?, ?, ?, ?, ?)\n",
    "        \"\"\", (\n",
    "            client_id,\n",
    "            random.choice([\"Home Care\", \"Residential Care\", \"Day Centre\", \"Direct Payment\"]),\n",
    "            start_date,\n",
    "            end_date,\n",
    "            random.choice([\"Local Authority\", \"Private Agency\", \"Charity\"])\n",
    "        ))\n",
    "    \n",
    "    # ---------- OUTCOMES ----------\n",
    "    for _ in range(random.randint(1, 2)):  # 1–2 outcomes per client\n",
    "        cursor.execute(\"\"\"\n",
    "        INSERT INTO outcomes (client_id, outcome_date, outcome_type, outcome_value)\n",
    "        VALUES (?, ?, ?, ?)\n",
    "        \"\"\", (\n",
    "            client_id,\n",
    "            fake.date_between(start_date=\"-1y\", end_date=\"today\"),\n",
    "            random.choice([\"Independence\", \"Wellbeing\", \"Safety\", \"Financial\"]),\n",
    "            random.choice([\"Improved\", \"Maintained\", \"Declined\"])\n",
    "        ))\n",
    "\n",
    "# Save changes\n",
    "conn.commit()\n",
    "print(\"Synthetic data inserted with consistent client_id.\")\n",
    "\n",
    "conn.close()\n"
   ]
  },
  {
   "cell_type": "code",
   "execution_count": 5,
   "id": "73d48476",
   "metadata": {},
   "outputs": [
    {
     "name": "stdout",
     "output_type": "stream",
     "text": [
      "[('sqlite_sequence',), ('clients',), ('assessments',), ('services',), ('outcomes',)]\n"
     ]
    }
   ],
   "source": [
    "\n",
    "conn = sqlite3.connect(\"data/synthetic_socialcare2.db\")\n",
    "cursor = conn.cursor()\n",
    "\n",
    "cursor.execute(\"SELECT name FROM sqlite_master WHERE type='table';\")\n",
    "print(cursor.fetchall())\n",
    "\n",
    "conn.close()\n"
   ]
  },
  {
   "cell_type": "code",
   "execution_count": 6,
   "id": "1f216050",
   "metadata": {},
   "outputs": [],
   "source": [
    "# Example schema dictionary\n",
    "schema = {\n",
    "    \"clients\": [\"client_id\", \"name\", \"age\", \"gender\", \"postcode\"],\n",
    "    \"assessments\": [\"assessment_id\", \"client_id\", \"assessment_date\", \"outcome\"],\n",
    "    \"services\": [\"service_id\", \"client_id\", \"service_name\", \"start_date\", \"end_date\"],\n",
    "    \"outcomes\": [\"client_id\", \"outcome_date\", \"outcome_type\", \"outcome_value\"]\n",
    "}\n"
   ]
  },
  {
   "cell_type": "markdown",
   "id": "0a7e4250",
   "metadata": {},
   "source": [
    "## Build AI SQL Generator"
   ]
  },
  {
   "cell_type": "markdown",
   "id": "bccbb0ee",
   "metadata": {},
   "source": [
    "### Setup Environment and API keys"
   ]
  },
  {
   "cell_type": "code",
   "execution_count": 7,
   "id": "93588d7f",
   "metadata": {},
   "outputs": [],
   "source": [
    "from openai import OpenAI\n",
    "from dotenv import load_dotenv\n",
    "from agents import Agent, Runner, trace, function_tool\n",
    "import os\n",
    "import asyncio"
   ]
  },
  {
   "cell_type": "code",
   "execution_count": 8,
   "id": "12535213",
   "metadata": {},
   "outputs": [
    {
     "data": {
      "text/plain": [
       "True"
      ]
     },
     "execution_count": 8,
     "metadata": {},
     "output_type": "execute_result"
    }
   ],
   "source": [
    "load_dotenv(override=True)"
   ]
  },
  {
   "cell_type": "code",
   "execution_count": 9,
   "id": "ca3ef06b",
   "metadata": {},
   "outputs": [
    {
     "name": "stdout",
     "output_type": "stream",
     "text": [
      "The key is found and starts with: sk-proj-\n"
     ]
    }
   ],
   "source": [
    "openaikey = os.getenv(\"OPENAI_API_KEY\")\n",
    "\n",
    "if openaikey:\n",
    "    print(f\"The key is found and starts with: {openaikey[:8]}\")\n",
    "else:\n",
    "    print(f\"Key not found\")"
   ]
  },
  {
   "cell_type": "markdown",
   "id": "cbb26696",
   "metadata": {},
   "source": [
    "#### SQL execution function to run read-only queries on SQLite DB."
   ]
  },
  {
   "cell_type": "code",
   "execution_count": 10,
   "id": "57c39961",
   "metadata": {},
   "outputs": [],
   "source": [
    " @function_tool\n",
    " def execute_sql(query: str):\n",
    "    \"\"\"Run a read-only SQL query on the SQLite DB.\"\"\"\n",
    "    with sqlite3.connect(db_path) as conn:\n",
    "        cursor = conn.cursor()\n",
    "        cursor.execute(query)\n",
    "        rows = cursor.fetchall()\n",
    "        colnames = [desc[0] for desc in cursor.description]\n",
    "    return [dict(zip(colnames, row)) for row in rows]"
   ]
  },
  {
   "cell_type": "markdown",
   "id": "99ddd653",
   "metadata": {},
   "source": [
    "#### Configure Agent instance (QueryExecutor) with gpt-4o-mini model."
   ]
  },
  {
   "cell_type": "code",
   "execution_count": 11,
   "id": "c3349398",
   "metadata": {},
   "outputs": [],
   "source": [
    "instruction1 = f\"\"\"\n",
    "You are a SQL assistant for adult social care data.\n",
    "Always generate SELECT-only SQL for the SQLite schema provided.\n",
    "Never use DROP, INSERT, UPDATE, DELETE, ALTER, ATTACH, or PRAGMA.\n",
    "Return strictly JSON with keys:\n",
    "- sql: the SQL query string\n",
    "- explanation: a short (1-2 sentence) explanation of the query logic\n",
    "Schema reference: {schema}\n",
    "Make sure the output is a single valid JSON object, nothing else.\n",
    "\"\"\"\n"
   ]
  },
  {
   "cell_type": "code",
   "execution_count": 12,
   "id": "ebf9c2c1",
   "metadata": {},
   "outputs": [],
   "source": [
    "Agent1 = Agent(\n",
    "    name = 'QueryExecutor',\n",
    "    instructions = instruction1,\n",
    "    model = \"gpt-4o-mini\"\n",
    ")\n",
    "\n",
    "tool1=Agent1.as_tool(tool_name='instruct', tool_description=instruction1)"
   ]
  },
  {
   "cell_type": "code",
   "execution_count": 13,
   "id": "af236dd7",
   "metadata": {},
   "outputs": [],
   "source": [
    "tools = [tool1,execute_sql]"
   ]
  },
  {
   "cell_type": "code",
   "execution_count": 14,
   "id": "1002c64f",
   "metadata": {},
   "outputs": [
    {
     "name": "stdout",
     "output_type": "stream",
     "text": [
      "Here's the list of adults aged over 20 years along with their service outcomes:\n",
      "\n",
      "| Name                         | Age | Outcome Type    | Outcome Value |\n",
      "|------------------------------|-----|------------------|---------------|\n",
      "| Mr Damian Ball               | 81  | Financial        | Declined      |\n",
      "| Mr Damian Ball               | 81  | Safety           | Improved      |\n",
      "| Jake Simpson                 | 31  | Independence     | Maintained    |\n",
      "| Jessica Anderson-Smith       | 72  | Financial        | Declined      |\n",
      "| Jessica Anderson-Smith       | 72  | Independence     | Maintained    |\n",
      "| Ms Rita Cross                | 70  | Financial        | Improved      |\n",
      "| Lindsey Cunningham            | 27  | Independence     | Maintained    |\n",
      "| Lindsey Cunningham            | 27  | Financial        | Improved      |\n",
      "| Anne Bray                    | 49  | Safety           | Improved      |\n",
      "| Anne Bray                    | 49  | Financial        | Maintained    |\n",
      "| Jordan Smith                 | 49  | Independence     | Maintained    |\n",
      "| Heather Stanley              | 63  | Wellbeing        | Improved      |\n",
      "| Heather Stanley              | 63  | Independence     | Improved      |\n",
      "| Danielle Hall                | 22  | Safety           | Improved      |\n",
      "| Danielle Hall                | 22  | Wellbeing        | Improved      |\n",
      "| Miss Megan Randall           | 60  | Independence     | Maintained    |\n",
      "| Miss Megan Randall           | 60  | Independence     | Maintained    |\n",
      "| Dr Wayne Humphreys          | 40  | Safety           | Improved      |\n",
      "| Dr Wayne Humphreys          | 40  | Independence     | Declined      |\n",
      "| Julian Banks                 | 75  | Independence     | Declined      |\n",
      "| Julian Banks                 | 75  | Wellbeing        | Improved      |\n",
      "| Mr Samuel Cole               | 78  | Financial        | Improved      |\n",
      "| Mr Samuel Cole               | 78  | Safety           | Improved      |\n",
      "| Brett Williams               | 45  | Safety           | Declined      |\n",
      "| Brett Williams               | 45  | Independence     | Declined      |\n",
      "| Ashleigh Horton              | 83  | Independence     | Maintained    |\n",
      "| Dr Lawrence Ali              | 43  | Financial        | Maintained    |\n",
      "| Wayne Davies                 | 38  | Wellbeing        | Declined      |\n",
      "| Wayne Davies                 | 38  | Independence     | Declined      |\n",
      "| Suzanne Walton-Morgan        | 58  | Independence     | Maintained    |\n",
      "| Suzanne Walton-Morgan        | 58  | Financial        | Improved      |\n",
      "| Tracy Griffin                | 39  | Safety           | Declined      |\n",
      "| Gerard Pickering             | 54  | Independence     | Maintained    |\n",
      "| Gerard Pickering             | 54  | Wellbeing        | Maintained    |\n",
      "| Gemma Brooks                 | 52  | Independence     | Maintained    |\n",
      "| Mr Justin Robinson           | 24  | Financial        | Maintained    |\n",
      "| Mr Justin Robinson           | 24  | Wellbeing        | Improved      |\n",
      "| Dr Leonard Smith             | 72  | Independence     | Maintained    |\n",
      "| Dr Leonard Smith             | 72  | Independence     | Declined      |\n",
      "| Ms Deborah Baldwin           | 34  | Financial        | Improved      |\n",
      "| Ms Deborah Baldwin           | 34  | Safety           | Maintained    |\n",
      "| Teresa Taylor                | 40  | Financial        | Declined      |\n",
      "| Louis Myers                  | 82  | Financial        | Maintained    |\n",
      "| Declan White                 | 27  | Wellbeing        | Maintained    |\n",
      "| Beverley Wallace             | 57  | Safety           | Declined      |\n",
      "| Linda Brown-Jones            | 78  | Financial        | Declined      |\n",
      "| Ms Lynn Simpson              | 86  | Financial        | Improved      |\n",
      "| Miss Marie Sheppard         | 85  | Independence     | Declined      |\n",
      "| Garry Morris                 | 25  | Independence     | Improved      |\n",
      "| Garry Morris                 | 25  | Independence     | Improved      |\n",
      "| Clare Potts-Byrne           | 24  | Wellbeing        | Maintained    |\n",
      "| Clare Potts-Byrne           | 24  | Financial        | Declined      |\n",
      "| Dr Wendy Jones               | 76  | Independence     | Maintained    |\n",
      "| Dr Wendy Jones               | 76  | Financial        | Declined      |\n",
      "| Valerie Walker               | 25  | Independence     | Declined      |\n",
      "| Valerie Walker               | 25  | Safety           | Maintained    |\n",
      "| Cheryl Clark                 | 95  | Independence     | Maintained    |\n",
      "| Laura Craig                  | 34  | Financial        | Improved      |\n",
      "| Eleanor Chapman              | 21  | Financial        | Maintained    |\n",
      "| Eleanor Chapman              | 21  | Independence     | Improved      |\n",
      "| Sophie Edwards               | 68  | Financial        | Maintained    |\n",
      "| Sophie Edwards               | 68  | Wellbeing        | Declined      |\n",
      "| Bethan Hamilton              | 82  | Financial        | Declined      |\n",
      "| Miss Hilary Kelly            | 65  | Safety           | Maintained    |\n",
      "| Mr Graeme Dodd              | 81  | Safety           | Improved      |\n",
      "| Paige Pearson                | 34  | Safety           | Improved      |\n",
      "| Mrs Margaret Kaur          | 53  | Safety           | Declined      |\n",
      "| Toby Davies-Clayton         | 56  | Financial        | Improved      |\n",
      "| Toby Davies-Clayton         | 56  | Safety           | Declined      |\n",
      "| Ms Claire King               | 53  | Independence     | Declined      |\n",
      "| Ms Claire King               | 53  | Wellbeing        | Improved      |\n",
      "| Sophie James                 | 49  | Independence     | Declined      |\n",
      "| Sophie James                 | 49  | Safety           | Declined      |\n",
      "| Josephine Read               | 83  | Independence     | Declined      |\n",
      "| Josephine Read               | 83  | Independence     | Declined      |\n",
      "| Jay Bentley                  | 68  | Independence     | Improved      |\n",
      "| Jay Bentley                  | 68  | Wellbeing        | Maintained    |\n",
      "| Joel Wilkinson               | 62  | Wellbeing        | Maintained    |\n"
     ]
    }
   ],
   "source": [
    "instruction2 = \"You are to execute the SQL query you generate and return a clean formatted table. Use the tools provided to you\"\n",
    "\n",
    "resultagent = Agent(\n",
    "    name = \"strictinstruct\",\n",
    "    instructions = instruction2,\n",
    "    tools=tools,\n",
    "    model = 'gpt-4o-mini'\n",
    ")\n",
    "\n",
    "message = \"List the adults aged over 20 years with their service outcome\"\n",
    "\n",
    "with trace(\"resultfinder\"):\n",
    "    result = await Runner.run(resultagent, message)\n",
    "    print(result.final_output)\n"
   ]
  },
  {
   "cell_type": "code",
   "execution_count": null,
   "id": "f63fc0a5",
   "metadata": {},
   "outputs": [],
   "source": [
    "pip install streamlit\n"
   ]
  },
  {
   "cell_type": "code",
   "execution_count": 17,
   "id": "8e3cfb24",
   "metadata": {},
   "outputs": [],
   "source": [
    "import streamlit as st\n",
    "import asyncio"
   ]
  },
  {
   "cell_type": "code",
   "execution_count": 19,
   "id": "f21724d4",
   "metadata": {},
   "outputs": [
    {
     "name": "stderr",
     "output_type": "stream",
     "text": [
      "2025-09-03 19:25:53.525 Thread 'MainThread': missing ScriptRunContext! This warning can be ignored when running in bare mode.\n",
      "2025-09-03 19:25:53.526 Thread 'MainThread': missing ScriptRunContext! This warning can be ignored when running in bare mode.\n",
      "2025-09-03 19:25:53.527 Thread 'MainThread': missing ScriptRunContext! This warning can be ignored when running in bare mode.\n",
      "2025-09-03 19:25:53.531 Thread 'MainThread': missing ScriptRunContext! This warning can be ignored when running in bare mode.\n",
      "2025-09-03 19:25:53.535 Thread 'MainThread': missing ScriptRunContext! This warning can be ignored when running in bare mode.\n",
      "2025-09-03 19:25:53.536 Thread 'MainThread': missing ScriptRunContext! This warning can be ignored when running in bare mode.\n",
      "2025-09-03 19:25:53.537 Thread 'MainThread': missing ScriptRunContext! This warning can be ignored when running in bare mode.\n",
      "2025-09-03 19:25:53.537 Thread 'MainThread': missing ScriptRunContext! This warning can be ignored when running in bare mode.\n",
      "2025-09-03 19:25:53.538 Thread 'MainThread': missing ScriptRunContext! This warning can be ignored when running in bare mode.\n",
      "2025-09-03 19:25:53.538 Thread 'MainThread': missing ScriptRunContext! This warning can be ignored when running in bare mode.\n",
      "2025-09-03 19:25:53.539 Thread 'MainThread': missing ScriptRunContext! This warning can be ignored when running in bare mode.\n",
      "2025-09-03 19:25:53.539 Thread 'MainThread': missing ScriptRunContext! This warning can be ignored when running in bare mode.\n",
      "2025-09-03 19:25:53.540 Thread 'MainThread': missing ScriptRunContext! This warning can be ignored when running in bare mode.\n"
     ]
    }
   ],
   "source": [
    "st.title(\"Social Care Query Agenr\")\n",
    "\n",
    "#To keep conversation history\n",
    "messages = st.session_state.get(\"messages\")\n",
    "if messages is None:\n",
    "    st.session_state[\"messages\"] = []\n",
    "\n",
    "\n",
    "#dipslay conversation\n",
    "for msg in st.session_state.messages:\n",
    "    with st.chat_message(msg[\"role\"]):\n",
    "        st.markdown(msg[\"content\"])\n",
    "\n",
    "#chat input\n",
    "# Chat input\n",
    "if prompt := st.chat_input(\"Ask me about the social care database...\"):\n",
    "    # Show user msg\n",
    "    st.session_state[\"messages\"].append({\"role\": \"user\", \"content\": prompt})\n",
    "    with st.chat_message(\"user\"):\n",
    "        st.markdown(prompt)\n",
    "\n",
    "    # Placeholder for assistant reply\n",
    "    with st.chat_message(\"assistant\"):\n",
    "        placeholder = st.empty()\n",
    "        placeholder.markdown(\"⏳ Querying database...\")\n",
    "\n",
    "        # Run the agent\n",
    "        async def run_agent():\n",
    "            result = await Runner.run(resultagent, prompt)\n",
    "            return result.final_output\n",
    "\n",
    "        loop = asyncio.new_event_loop()\n",
    "        asyncio.set_event_loop(loop)\n",
    "        output = loop.run_until_complete(run_agent())\n",
    "        loop.close()\n",
    "\n",
    "        # Replace with agent output\n",
    "        placeholder.markdown(output)\n",
    "\n",
    "    # Save assistant response\n",
    "    st.session_state[\"messages\"].append({\"role\": \"assistant\", \"content\": output})"
   ]
  },
  {
   "cell_type": "markdown",
   "id": "203887e4",
   "metadata": {},
   "source": [
    "#### LLM-generated SQL queries, executions and results"
   ]
  },
  {
   "cell_type": "code",
   "execution_count": 40,
   "id": "660ca713",
   "metadata": {},
   "outputs": [
    {
     "name": "stdout",
     "output_type": "stream",
     "text": [
      "clients rows: 50\n",
      "services rows: 76\n",
      "outcomes rows: 73\n"
     ]
    }
   ],
   "source": [
    "with sqlite3.connect(db_path) as conn:\n",
    "    cursor = conn.cursor()\n",
    "    tables = [\"clients\", \"services\", \"outcomes\"]\n",
    "    for t in tables:\n",
    "        cursor.execute(f\"SELECT COUNT(*) FROM {t}\")\n",
    "        print(f\"{t} rows:\", cursor.fetchone()[0])\n"
   ]
  }
 ],
 "metadata": {
  "kernelspec": {
   "display_name": ".venv",
   "language": "python",
   "name": "python3"
  },
  "language_info": {
   "codemirror_mode": {
    "name": "ipython",
    "version": 3
   },
   "file_extension": ".py",
   "mimetype": "text/x-python",
   "name": "python",
   "nbconvert_exporter": "python",
   "pygments_lexer": "ipython3",
   "version": "3.13.7"
  }
 },
 "nbformat": 4,
 "nbformat_minor": 5
}
