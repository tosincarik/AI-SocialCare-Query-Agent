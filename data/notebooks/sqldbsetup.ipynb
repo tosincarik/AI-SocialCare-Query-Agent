{
 "cells": [
  {
   "cell_type": "code",
   "execution_count": 43,
   "id": "2fdabefe",
   "metadata": {},
   "outputs": [],
   "source": [
    "import sqlite3\n",
    "import os\n",
    "from faker import Faker\n",
    "import random\n",
    "import asyncio\n",
    "\n"
   ]
  },
  {
   "cell_type": "code",
   "execution_count": 44,
   "id": "e457e46a",
   "metadata": {},
   "outputs": [],
   "source": [
    "\n",
    "# Ensure the 'data' folder exists\n",
    "os.makedirs('data', exist_ok=True)\n",
    "\n",
    "# Define the database path\n",
    "db_path = os.path.join('data', 'synthetic_socialcare.db')\n",
    "\n",
    "# Connect to the SQLite database (creates the file if it doesn't exist)\n",
    "conn = sqlite3.connect(db_path)\n",
    "cursor = conn.cursor()\n",
    "\n",
    "\n"
   ]
  },
  {
   "cell_type": "markdown",
   "id": "51f6a32e",
   "metadata": {},
   "source": [
    "### Defined SQLite database schema for social care tables: clients, assessments, services, outcomes."
   ]
  },
  {
   "cell_type": "code",
   "execution_count": 45,
   "id": "b52e5c18",
   "metadata": {},
   "outputs": [
    {
     "name": "stdout",
     "output_type": "stream",
     "text": [
      "Tables created successfully.\n"
     ]
    }
   ],
   "source": [
    "\n",
    "# Connect to database (creates file if not exists)\n",
    "conn = sqlite3.connect(\"data/synthetic_socialcare.db\")\n",
    "cursor = conn.cursor()\n",
    "\n",
    "# Drop old tables (if running again for testing)\n",
    "cursor.execute(\"DROP TABLE IF EXISTS clients\")\n",
    "cursor.execute(\"DROP TABLE IF EXISTS assessments\")\n",
    "cursor.execute(\"DROP TABLE IF EXISTS services\")\n",
    "cursor.execute(\"DROP TABLE IF EXISTS outcomes\")\n",
    "\n",
    "# Create Clients table\n",
    "cursor.execute(\"\"\"\n",
    "CREATE TABLE clients (\n",
    "    client_id INTEGER PRIMARY KEY,\n",
    "    name TEXT NOT NULL,\n",
    "    age INTEGER,\n",
    "    gender TEXT,\n",
    "    postcode TEXT\n",
    ")\n",
    "\"\"\")\n",
    "\n",
    "# Create Assessments table\n",
    "cursor.execute(\"\"\"\n",
    "CREATE TABLE assessments (\n",
    "    assessment_id INTEGER PRIMARY KEY AUTOINCREMENT,\n",
    "    client_id INTEGER,\n",
    "    assessment_date TEXT,\n",
    "    assessment_type TEXT,\n",
    "    assessor TEXT,\n",
    "    FOREIGN KEY (client_id) REFERENCES clients(client_id)\n",
    ")\n",
    "\"\"\")\n",
    "\n",
    "# Create Services table\n",
    "cursor.execute(\"\"\"\n",
    "CREATE TABLE services (\n",
    "    service_id INTEGER PRIMARY KEY AUTOINCREMENT,\n",
    "    client_id INTEGER,\n",
    "    service_name TEXT,\n",
    "    start_date TEXT,\n",
    "    end_date TEXT,\n",
    "    provider TEXT,\n",
    "    FOREIGN KEY (client_id) REFERENCES clients(client_id)\n",
    ")\n",
    "\"\"\")\n",
    "\n",
    "# Create Outcomes table\n",
    "cursor.execute(\"\"\"\n",
    "CREATE TABLE outcomes (\n",
    "    outcome_id INTEGER PRIMARY KEY AUTOINCREMENT,\n",
    "    client_id INTEGER,\n",
    "    outcome_date TEXT,\n",
    "    outcome_type TEXT,\n",
    "    outcome_value TEXT,\n",
    "    FOREIGN KEY (client_id) REFERENCES clients(client_id)\n",
    ")\n",
    "\"\"\")\n",
    "\n",
    "# Save changes\n",
    "conn.commit()\n",
    "print(\"Tables created successfully.\")\n",
    "\n",
    "conn.close()\n"
   ]
  },
  {
   "cell_type": "markdown",
   "id": "97a56ae3",
   "metadata": {},
   "source": [
    "### Populated tables with synthetic data using Faker."
   ]
  },
  {
   "cell_type": "code",
   "execution_count": 46,
   "id": "3c8bd151",
   "metadata": {},
   "outputs": [
    {
     "name": "stdout",
     "output_type": "stream",
     "text": [
      "Synthetic data inserted with consistent client_id.\n"
     ]
    },
    {
     "name": "stderr",
     "output_type": "stream",
     "text": [
      "C:\\Users\\Admin\\AppData\\Local\\Temp\\ipykernel_33828\\2531899141.py:23: DeprecationWarning: The default date adapter is deprecated as of Python 3.12; see the sqlite3 documentation for suggested replacement recipes\n",
      "  cursor.execute(\"\"\"\n",
      "C:\\Users\\Admin\\AppData\\Local\\Temp\\ipykernel_33828\\2531899141.py:37: DeprecationWarning: The default date adapter is deprecated as of Python 3.12; see the sqlite3 documentation for suggested replacement recipes\n",
      "  cursor.execute(\"\"\"\n",
      "C:\\Users\\Admin\\AppData\\Local\\Temp\\ipykernel_33828\\2531899141.py:50: DeprecationWarning: The default date adapter is deprecated as of Python 3.12; see the sqlite3 documentation for suggested replacement recipes\n",
      "  cursor.execute(\"\"\"\n"
     ]
    }
   ],
   "source": [
    "\n",
    "# Setup\n",
    "fake = Faker(\"en_GB\")  # UK-style data\n",
    "conn = sqlite3.connect(\"data/synthetic_socialcare.db\")\n",
    "cursor = conn.cursor()\n",
    "\n",
    "# Number of synthetic clients\n",
    "N_CLIENTS = 50\n",
    "\n",
    "for client_id in range(1, N_CLIENTS + 1):\n",
    "    # ---------- CLIENT ----------\n",
    "    name = fake.name()\n",
    "    age = random.randint(18, 95)\n",
    "    gender = random.choice([\"Male\", \"Female\"])\n",
    "    postcode = fake.postcode()\n",
    "    \n",
    "    cursor.execute(\"\"\"\n",
    "    INSERT INTO clients (client_id, name, age, gender, postcode)\n",
    "    VALUES (?, ?, ?, ?, ?)\n",
    "    \"\"\", (client_id, name, age, gender, postcode))\n",
    "    \n",
    "    # ---------- ASSESSMENTS ----------\n",
    "    for _ in range(random.randint(1, 3)):  # 1–3 assessments per client\n",
    "        cursor.execute(\"\"\"\n",
    "        INSERT INTO assessments (client_id, assessment_date, assessment_type, assessor)\n",
    "        VALUES (?, ?, ?, ?)\n",
    "        \"\"\", (\n",
    "            client_id,\n",
    "            fake.date_between(start_date=\"-2y\", end_date=\"today\"),\n",
    "            random.choice([\"Care Act\", \"Financial\", \"Risk\"]),\n",
    "            fake.name()\n",
    "        ))\n",
    "    \n",
    "    # ---------- SERVICES ----------\n",
    "    for _ in range(random.randint(1, 2)):  # 1–2 services per client\n",
    "        start_date = fake.date_between(start_date=\"-2y\", end_date=\"-1m\")\n",
    "        end_date = fake.date_between(start_date=start_date, end_date=\"today\")\n",
    "        cursor.execute(\"\"\"\n",
    "        INSERT INTO services (client_id, service_name, start_date, end_date, provider)\n",
    "        VALUES (?, ?, ?, ?, ?)\n",
    "        \"\"\", (\n",
    "            client_id,\n",
    "            random.choice([\"Home Care\", \"Residential Care\", \"Day Centre\", \"Direct Payment\"]),\n",
    "            start_date,\n",
    "            end_date,\n",
    "            random.choice([\"Local Authority\", \"Private Agency\", \"Charity\"])\n",
    "        ))\n",
    "    \n",
    "    # ---------- OUTCOMES ----------\n",
    "    for _ in range(random.randint(1, 2)):  # 1–2 outcomes per client\n",
    "        cursor.execute(\"\"\"\n",
    "        INSERT INTO outcomes (client_id, outcome_date, outcome_type, outcome_value)\n",
    "        VALUES (?, ?, ?, ?)\n",
    "        \"\"\", (\n",
    "            client_id,\n",
    "            fake.date_between(start_date=\"-1y\", end_date=\"today\"),\n",
    "            random.choice([\"Independence\", \"Wellbeing\", \"Safety\", \"Financial\"]),\n",
    "            random.choice([\"Improved\", \"Maintained\", \"Declined\"])\n",
    "        ))\n",
    "\n",
    "# Save changes\n",
    "conn.commit()\n",
    "print(\"Synthetic data inserted with consistent client_id.\")\n",
    "\n",
    "conn.close()\n"
   ]
  },
  {
   "cell_type": "code",
   "execution_count": 47,
   "id": "73d48476",
   "metadata": {},
   "outputs": [
    {
     "name": "stdout",
     "output_type": "stream",
     "text": [
      "[('sqlite_sequence',), ('clients',), ('assessments',), ('services',), ('outcomes',)]\n"
     ]
    }
   ],
   "source": [
    "\n",
    "conn = sqlite3.connect(\"data/synthetic_socialcare.db\")\n",
    "cursor = conn.cursor()\n",
    "\n",
    "cursor.execute(\"SELECT name FROM sqlite_master WHERE type='table';\")\n",
    "print(cursor.fetchall())\n",
    "\n",
    "conn.close()\n"
   ]
  },
  {
   "cell_type": "code",
   "execution_count": null,
   "id": "1f216050",
   "metadata": {},
   "outputs": [],
   "source": [
    "# Example schema dictionary\n",
    "schema = {\n",
    "    \"clients\": [\"client_id\", \"name\", \"age\", \"gender\", \"postcode\"],\n",
    "    \"assessments\": [\"assessment_id\", \"client_id\", \"assessment_date\", \"outcome\"],\n",
    "    \"services\": [\"service_id\", \"client_id\", \"service_name\", \"start_date\", \"end_date\"],\n",
    "    \"outcomes\": [\"client_id\", \"outcome_date\", \"outcome_type\", \"outcome_value\"]\n",
    "}\n"
   ]
  },
  {
   "cell_type": "markdown",
   "id": "0a7e4250",
   "metadata": {},
   "source": [
    "## Build AI SQL Generator"
   ]
  },
  {
   "cell_type": "markdown",
   "id": "bccbb0ee",
   "metadata": {},
   "source": [
    "### Setup Environment and API keys"
   ]
  },
  {
   "cell_type": "code",
   "execution_count": 68,
   "id": "93588d7f",
   "metadata": {},
   "outputs": [],
   "source": [
    "from openai import OpenAI\n",
    "from dotenv import load_dotenv\n",
    "from agents import Agent, Runner, trace\n",
    "import os\n",
    "import asyncio"
   ]
  },
  {
   "cell_type": "code",
   "execution_count": 69,
   "id": "12535213",
   "metadata": {},
   "outputs": [
    {
     "data": {
      "text/plain": [
       "True"
      ]
     },
     "execution_count": 69,
     "metadata": {},
     "output_type": "execute_result"
    }
   ],
   "source": [
    "load_dotenv(override=True)"
   ]
  },
  {
   "cell_type": "code",
   "execution_count": 70,
   "id": "ca3ef06b",
   "metadata": {},
   "outputs": [
    {
     "name": "stdout",
     "output_type": "stream",
     "text": [
      "The key is found and starts with: sk-proj-\n"
     ]
    }
   ],
   "source": [
    "openaikey = os.getenv(\"OPENAI_API_KEY\")\n",
    "\n",
    "if openaikey:\n",
    "    print(f\"The key is found and starts with: {openaikey[:8]}\")\n",
    "else:\n",
    "    print(f\"Key not found\")"
   ]
  },
  {
   "cell_type": "code",
   "execution_count": null,
   "id": "a83a8831",
   "metadata": {},
   "outputs": [],
   "source": []
  },
  {
   "cell_type": "markdown",
   "id": "cbb26696",
   "metadata": {},
   "source": [
    "#### SQL execution function to run read-only queries on SQLite DB."
   ]
  },
  {
   "cell_type": "code",
   "execution_count": 84,
   "id": "57c39961",
   "metadata": {},
   "outputs": [],
   "source": [
    "def execute_sql(query: str):\n",
    "    \"\"\"Run a read-only SQL query on the SQLite DB.\"\"\"\n",
    "    with sqlite3.connect(db_path) as conn:\n",
    "        cursor = conn.cursor()\n",
    "        cursor.execute(query)\n",
    "        rows = cursor.fetchall()\n",
    "        colnames = [desc[0] for desc in cursor.description]\n",
    "    return [dict(zip(colnames, row)) for row in rows]"
   ]
  },
  {
   "cell_type": "markdown",
   "id": "99ddd653",
   "metadata": {},
   "source": [
    "#### Configure Agent instance (QueryExecutor) with gpt-4o-mini model."
   ]
  },
  {
   "cell_type": "code",
   "execution_count": null,
   "id": "c3349398",
   "metadata": {},
   "outputs": [],
   "source": [
    "instruction1 = f\"\"\"\n",
    "You are a SQL assistant for adult social care data.\n",
    "Always generate SELECT-only SQL for the SQLite schema provided.\n",
    "Never use DROP, INSERT, UPDATE, DELETE, ALTER, ATTACH, or PRAGMA.\n",
    "Return strictly JSON with keys:\n",
    "- sql: the SQL query string\n",
    "- explanation: a short (1-2 sentence) explanation of the query logic\n",
    "Schema reference: {schema}\n",
    "Make sure the output is a single valid JSON object, nothing else.\n",
    "\"\"\"\n"
   ]
  },
  {
   "cell_type": "code",
   "execution_count": 86,
   "id": "ebf9c2c1",
   "metadata": {},
   "outputs": [],
   "source": [
    "Agent1 = Agent(\n",
    "    name = 'QueryExecutor',\n",
    "    instructions = instruction1,\n",
    "    model = \"gpt-4o-mini\"\n",
    ")"
   ]
  },
  {
   "cell_type": "code",
   "execution_count": 87,
   "id": "4b979716",
   "metadata": {},
   "outputs": [
    {
     "data": {
      "text/plain": [
       "Agent(name='QueryExecutor', handoff_description=None, tools=[], mcp_servers=[], mcp_config={}, instructions=\"\\nYou are a SQL assistant for adult social care data.\\nAlways generate SELECT-only SQL for the SQLite schema provided.\\nNever use DROP, INSERT, UPDATE, DELETE, ALTER, ATTACH, or PRAGMA.\\nReturn strictly JSON with keys:\\n- sql: the SQL query string\\n- explanation: a short (1-2 sentence) explanation of the query logic\\nSchema reference: {'clients': ['client_id', 'name', 'age', 'gender', 'postcode'], 'assessments': ['assessment_id', 'client_id', 'assessment_date', 'outcome'], 'services': ['service_id', 'client_id', 'service_name', 'start_date', 'end_date'], 'outcomes': ['client_id', 'outcome_date', 'outcome_type', 'outcome_value']}\\nMake sure the output is a single valid JSON object, nothing else.\\n\", prompt=None, handoffs=[], model='gpt-4o-mini', model_settings=ModelSettings(temperature=None, top_p=None, frequency_penalty=None, presence_penalty=None, tool_choice=None, parallel_tool_calls=None, truncation=None, max_tokens=None, reasoning=None, verbosity=None, metadata=None, store=None, include_usage=None, response_include=None, top_logprobs=None, extra_query=None, extra_body=None, extra_headers=None, extra_args=None), input_guardrails=[], output_guardrails=[], output_type=None, hooks=None, tool_use_behavior='run_llm_again', reset_tool_choice=True)"
      ]
     },
     "execution_count": 87,
     "metadata": {},
     "output_type": "execute_result"
    }
   ],
   "source": [
    "Agent1"
   ]
  },
  {
   "cell_type": "markdown",
   "id": "203887e4",
   "metadata": {},
   "source": [
    "#### LLM-generated SQL queries, executions and results"
   ]
  },
  {
   "cell_type": "code",
   "execution_count": 99,
   "id": "80485cd8",
   "metadata": {},
   "outputs": [
    {
     "name": "stdout",
     "output_type": "stream",
     "text": [
      "{\n",
      "  \"sql\": \"SELECT c.client_id, c.name, c.age, o.outcome_type, o.outcome_value FROM clients c LEFT JOIN outcomes o ON c.client_id = o.client_id WHERE c.age > 20;\",\n",
      "  \"explanation\": \"This query selects clients over 20 years old and retrieves their names, ages, and associated outcomes by performing a LEFT JOIN between the clients and outcomes tables.\"\n",
      "}\n"
     ]
    }
   ],
   "source": [
    "result = await Runner.run(Agent1, \"List the adults aged over 20 years with their service outcome\")\n",
    "\n",
    "print(result.final_output)"
   ]
  },
  {
   "cell_type": "code",
   "execution_count": 100,
   "id": "bc2d87e3",
   "metadata": {},
   "outputs": [
    {
     "name": "stdout",
     "output_type": "stream",
     "text": [
      "Raw LLM output: '{\\n  \"sql\": \"SELECT c.client_id, c.name, c.age, o.outcome_type, o.outcome_value FROM clients c LEFT JOIN outcomes o ON c.client_id = o.client_id WHERE c.age > 20;\",\\n  \"explanation\": \"This query selects clients over 20 years old and retrieves their names, ages, and associated outcomes by performing a LEFT JOIN between the clients and outcomes tables.\"\\n}'\n"
     ]
    }
   ],
   "source": [
    "print(\"Raw LLM output:\", repr(result.final_output))\n"
   ]
  },
  {
   "cell_type": "code",
   "execution_count": 101,
   "id": "fb16b76c",
   "metadata": {},
   "outputs": [],
   "source": [
    "import json\n",
    "\n",
    "clean_output = result.final_output.strip().strip('\"')\n",
    "parsed_result = json.loads(clean_output)"
   ]
  },
  {
   "cell_type": "code",
   "execution_count": 102,
   "id": "45cb4e58",
   "metadata": {},
   "outputs": [],
   "source": [
    "# Now you can access keys\n",
    "sql_query = parsed_result[\"sql\"]\n",
    "explanation = parsed_result[\"explanation\"]"
   ]
  },
  {
   "cell_type": "code",
   "execution_count": 103,
   "id": "ca903374",
   "metadata": {},
   "outputs": [
    {
     "name": "stdout",
     "output_type": "stream",
     "text": [
      "🔹 Generated SQL: SELECT c.client_id, c.name, c.age, o.outcome_type, o.outcome_value FROM clients c LEFT JOIN outcomes o ON c.client_id = o.client_id WHERE c.age > 20;\n",
      "🔹 Executed Results: [{'client_id': 1, 'name': 'Miss Laura Finch', 'age': 55, 'outcome_type': 'Financial', 'outcome_value': 'Maintained'}, {'client_id': 1, 'name': 'Miss Laura Finch', 'age': 55, 'outcome_type': 'Safety', 'outcome_value': 'Improved'}, {'client_id': 2, 'name': 'Ms Amy Harrison', 'age': 33, 'outcome_type': 'Wellbeing', 'outcome_value': 'Declined'}, {'client_id': 2, 'name': 'Ms Amy Harrison', 'age': 33, 'outcome_type': 'Wellbeing', 'outcome_value': 'Improved'}, {'client_id': 3, 'name': 'Dr Shaun Thomas', 'age': 95, 'outcome_type': 'Financial', 'outcome_value': 'Declined'}, {'client_id': 4, 'name': 'Dr Jeremy Richards', 'age': 85, 'outcome_type': 'Financial', 'outcome_value': 'Improved'}, {'client_id': 5, 'name': 'Dr Natalie Holt', 'age': 61, 'outcome_type': 'Financial', 'outcome_value': 'Declined'}, {'client_id': 5, 'name': 'Dr Natalie Holt', 'age': 61, 'outcome_type': 'Wellbeing', 'outcome_value': 'Declined'}, {'client_id': 6, 'name': 'Ashleigh Little-Chapman', 'age': 30, 'outcome_type': 'Wellbeing', 'outcome_value': 'Declined'}, {'client_id': 7, 'name': 'Georgina Middleton-Murphy', 'age': 93, 'outcome_type': 'Independence', 'outcome_value': 'Declined'}, {'client_id': 8, 'name': 'Kyle Begum-Palmer', 'age': 77, 'outcome_type': 'Financial', 'outcome_value': 'Declined'}, {'client_id': 8, 'name': 'Kyle Begum-Palmer', 'age': 77, 'outcome_type': 'Financial', 'outcome_value': 'Maintained'}, {'client_id': 9, 'name': 'Ricky Richards-Butler', 'age': 88, 'outcome_type': 'Financial', 'outcome_value': 'Improved'}, {'client_id': 9, 'name': 'Ricky Richards-Butler', 'age': 88, 'outcome_type': 'Independence', 'outcome_value': 'Maintained'}, {'client_id': 10, 'name': 'Sally Roberts', 'age': 26, 'outcome_type': 'Safety', 'outcome_value': 'Improved'}, {'client_id': 10, 'name': 'Sally Roberts', 'age': 26, 'outcome_type': 'Wellbeing', 'outcome_value': 'Maintained'}, {'client_id': 11, 'name': 'Victor Chapman', 'age': 89, 'outcome_type': 'Financial', 'outcome_value': 'Improved'}, {'client_id': 12, 'name': 'Bernard Wright', 'age': 45, 'outcome_type': 'Financial', 'outcome_value': 'Maintained'}, {'client_id': 13, 'name': 'Henry Graham', 'age': 47, 'outcome_type': 'Safety', 'outcome_value': 'Improved'}, {'client_id': 13, 'name': 'Henry Graham', 'age': 47, 'outcome_type': 'Safety', 'outcome_value': 'Maintained'}, {'client_id': 14, 'name': 'Dr Nigel Hope', 'age': 73, 'outcome_type': 'Financial', 'outcome_value': 'Improved'}, {'client_id': 14, 'name': 'Dr Nigel Hope', 'age': 73, 'outcome_type': 'Independence', 'outcome_value': 'Declined'}, {'client_id': 15, 'name': 'Dr Christian West', 'age': 69, 'outcome_type': 'Financial', 'outcome_value': 'Improved'}, {'client_id': 15, 'name': 'Dr Christian West', 'age': 69, 'outcome_type': 'Financial', 'outcome_value': 'Improved'}, {'client_id': 16, 'name': \"Dr Justin O'Connor\", 'age': 62, 'outcome_type': 'Financial', 'outcome_value': 'Improved'}, {'client_id': 16, 'name': \"Dr Justin O'Connor\", 'age': 62, 'outcome_type': 'Safety', 'outcome_value': 'Maintained'}, {'client_id': 17, 'name': 'Damian Miller-Johnston', 'age': 25, 'outcome_type': 'Independence', 'outcome_value': 'Maintained'}, {'client_id': 18, 'name': 'Vanessa Marshall', 'age': 79, 'outcome_type': 'Safety', 'outcome_value': 'Improved'}, {'client_id': 19, 'name': 'Mr Arthur Howells', 'age': 45, 'outcome_type': 'Safety', 'outcome_value': 'Maintained'}, {'client_id': 19, 'name': 'Mr Arthur Howells', 'age': 45, 'outcome_type': 'Wellbeing', 'outcome_value': 'Improved'}, {'client_id': 20, 'name': \"Charlie O'Neill\", 'age': 35, 'outcome_type': 'Financial', 'outcome_value': 'Improved'}, {'client_id': 20, 'name': \"Charlie O'Neill\", 'age': 35, 'outcome_type': 'Financial', 'outcome_value': 'Maintained'}, {'client_id': 21, 'name': 'Dr Derek Andrews', 'age': 74, 'outcome_type': 'Safety', 'outcome_value': 'Improved'}, {'client_id': 22, 'name': 'Dr Pauline Connolly', 'age': 52, 'outcome_type': 'Independence', 'outcome_value': 'Improved'}, {'client_id': 23, 'name': 'Graham Carr', 'age': 22, 'outcome_type': 'Safety', 'outcome_value': 'Declined'}, {'client_id': 24, 'name': 'Molly Pope', 'age': 36, 'outcome_type': 'Independence', 'outcome_value': 'Improved'}, {'client_id': 25, 'name': 'James Evans', 'age': 58, 'outcome_type': 'Financial', 'outcome_value': 'Maintained'}, {'client_id': 25, 'name': 'James Evans', 'age': 58, 'outcome_type': 'Independence', 'outcome_value': 'Declined'}, {'client_id': 26, 'name': 'Hugh Willis', 'age': 85, 'outcome_type': 'Safety', 'outcome_value': 'Maintained'}, {'client_id': 26, 'name': 'Hugh Willis', 'age': 85, 'outcome_type': 'Wellbeing', 'outcome_value': 'Maintained'}, {'client_id': 27, 'name': 'Mohammed Gordon', 'age': 94, 'outcome_type': 'Wellbeing', 'outcome_value': 'Improved'}, {'client_id': 28, 'name': 'Leigh Chambers', 'age': 82, 'outcome_type': 'Independence', 'outcome_value': 'Improved'}, {'client_id': 30, 'name': 'Ben Thompson', 'age': 60, 'outcome_type': 'Wellbeing', 'outcome_value': 'Maintained'}, {'client_id': 31, 'name': 'Deborah Howard', 'age': 45, 'outcome_type': 'Financial', 'outcome_value': 'Maintained'}, {'client_id': 31, 'name': 'Deborah Howard', 'age': 45, 'outcome_type': 'Independence', 'outcome_value': 'Improved'}, {'client_id': 32, 'name': 'Cameron Chapman', 'age': 66, 'outcome_type': 'Wellbeing', 'outcome_value': 'Declined'}, {'client_id': 33, 'name': 'Derek Wilkins-Lee', 'age': 56, 'outcome_type': 'Safety', 'outcome_value': 'Maintained'}, {'client_id': 34, 'name': 'James Hartley', 'age': 74, 'outcome_type': 'Safety', 'outcome_value': 'Maintained'}, {'client_id': 35, 'name': 'Eric Whitehouse', 'age': 28, 'outcome_type': 'Independence', 'outcome_value': 'Declined'}, {'client_id': 35, 'name': 'Eric Whitehouse', 'age': 28, 'outcome_type': 'Independence', 'outcome_value': 'Maintained'}, {'client_id': 36, 'name': 'Ashley Jackson-Adams', 'age': 29, 'outcome_type': 'Wellbeing', 'outcome_value': 'Declined'}, {'client_id': 36, 'name': 'Ashley Jackson-Adams', 'age': 29, 'outcome_type': 'Wellbeing', 'outcome_value': 'Improved'}, {'client_id': 37, 'name': 'Nigel Morton-Gibbs', 'age': 48, 'outcome_type': 'Wellbeing', 'outcome_value': 'Improved'}, {'client_id': 38, 'name': 'Geoffrey Newman', 'age': 70, 'outcome_type': 'Safety', 'outcome_value': 'Improved'}, {'client_id': 39, 'name': 'Garry Johnson', 'age': 63, 'outcome_type': 'Independence', 'outcome_value': 'Declined'}, {'client_id': 40, 'name': 'George Greenwood', 'age': 45, 'outcome_type': 'Safety', 'outcome_value': 'Declined'}, {'client_id': 40, 'name': 'George Greenwood', 'age': 45, 'outcome_type': 'Wellbeing', 'outcome_value': 'Improved'}, {'client_id': 41, 'name': 'Damien Graham', 'age': 55, 'outcome_type': 'Safety', 'outcome_value': 'Improved'}, {'client_id': 41, 'name': 'Damien Graham', 'age': 55, 'outcome_type': 'Safety', 'outcome_value': 'Improved'}, {'client_id': 42, 'name': 'Leah Thomas-Gibbs', 'age': 85, 'outcome_type': 'Safety', 'outcome_value': 'Declined'}, {'client_id': 43, 'name': 'Jodie Lloyd', 'age': 71, 'outcome_type': 'Financial', 'outcome_value': 'Improved'}, {'client_id': 44, 'name': 'Ms Brenda Long', 'age': 71, 'outcome_type': 'Safety', 'outcome_value': 'Declined'}, {'client_id': 45, 'name': 'Nicole Bryan', 'age': 27, 'outcome_type': 'Independence', 'outcome_value': 'Maintained'}, {'client_id': 46, 'name': 'Henry Sullivan', 'age': 45, 'outcome_type': 'Independence', 'outcome_value': 'Improved'}, {'client_id': 47, 'name': 'Dr Georgia Sykes', 'age': 25, 'outcome_type': 'Independence', 'outcome_value': 'Declined'}, {'client_id': 47, 'name': 'Dr Georgia Sykes', 'age': 25, 'outcome_type': 'Safety', 'outcome_value': 'Declined'}, {'client_id': 48, 'name': 'Sandra Jones-Douglas', 'age': 48, 'outcome_type': 'Safety', 'outcome_value': 'Declined'}, {'client_id': 48, 'name': 'Sandra Jones-Douglas', 'age': 48, 'outcome_type': 'Wellbeing', 'outcome_value': 'Declined'}, {'client_id': 49, 'name': 'Dr Martin Lamb', 'age': 32, 'outcome_type': 'Safety', 'outcome_value': 'Maintained'}, {'client_id': 49, 'name': 'Dr Martin Lamb', 'age': 32, 'outcome_type': 'Wellbeing', 'outcome_value': 'Improved'}, {'client_id': 50, 'name': 'Mrs Claire Taylor', 'age': 89, 'outcome_type': 'Financial', 'outcome_value': 'Declined'}, {'client_id': 50, 'name': 'Mrs Claire Taylor', 'age': 89, 'outcome_type': 'Safety', 'outcome_value': 'Declined'}]\n"
     ]
    }
   ],
   "source": [
    "# 🔹 Execute SQL\n",
    "query_results = execute_sql(sql_query)\n",
    "\n",
    "# Now you have BOTH:\n",
    "print(\"🔹 Generated SQL:\", sql_query)\n",
    "#print(\"🔹 Agent Explanation:\", result.final_output[\"explanation\"])\n",
    "print(\"🔹 Executed Results:\", query_results)"
   ]
  },
  {
   "cell_type": "code",
   "execution_count": 96,
   "id": "660ca713",
   "metadata": {},
   "outputs": [
    {
     "name": "stdout",
     "output_type": "stream",
     "text": [
      "clients rows: 50\n",
      "services rows: 78\n",
      "outcomes rows: 74\n"
     ]
    }
   ],
   "source": [
    "with sqlite3.connect(db_path) as conn:\n",
    "    cursor = conn.cursor()\n",
    "    tables = [\"clients\", \"services\", \"outcomes\"]\n",
    "    for t in tables:\n",
    "        cursor.execute(f\"SELECT COUNT(*) FROM {t}\")\n",
    "        print(f\"{t} rows:\", cursor.fetchone()[0])\n"
   ]
  }
 ],
 "metadata": {
  "kernelspec": {
   "display_name": ".venv",
   "language": "python",
   "name": "python3"
  },
  "language_info": {
   "codemirror_mode": {
    "name": "ipython",
    "version": 3
   },
   "file_extension": ".py",
   "mimetype": "text/x-python",
   "name": "python",
   "nbconvert_exporter": "python",
   "pygments_lexer": "ipython3",
   "version": "3.13.7"
  }
 },
 "nbformat": 4,
 "nbformat_minor": 5
}
