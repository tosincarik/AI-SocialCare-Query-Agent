{
 "cells": [
  {
   "cell_type": "code",
   "execution_count": 6,
   "id": "2fdabefe",
   "metadata": {},
   "outputs": [],
   "source": [
    "import sqlite3\n",
    "import os"
   ]
  },
  {
   "cell_type": "code",
   "execution_count": 11,
   "id": "e457e46a",
   "metadata": {},
   "outputs": [],
   "source": [
    "import sqlite3\n",
    "import os\n",
    "\n",
    "# Absolute path to the database file\n",
    "database_path = r'C:\\Users\\OluwatosinOyeladun\\Downloads\\Oluwatosin Oyeladun\\Projects\\AI-SocialCare-Query-Agent\\data\\synthetic_socialcare.db'\n",
    "\n",
    "# Ensure the 'data' folder exists\n",
    "os.makedirs(os.path.dirname(database_path), exist_ok=True)\n",
    "\n",
    "# Create or connect to the SQLite database\n",
    "conn = sqlite3.connect(database_path)\n",
    "cursor = conn.cursor()\n",
    "\n",
    "# Rest of your code here (creating tables)\n",
    "\n",
    "\n"
   ]
  },
  {
   "cell_type": "code",
   "execution_count": 12,
   "id": "8de29f4e",
   "metadata": {},
   "outputs": [
    {
     "data": {
      "text/plain": [
       "<sqlite3.Cursor at 0x1e8381f9fc0>"
      ]
     },
     "execution_count": 12,
     "metadata": {},
     "output_type": "execute_result"
    }
   ],
   "source": [
    "cursor.execute('''\n",
    "CREATE TABLE IF NOT EXISTS Clients (\n",
    "    client_id INTEGER PRIMARY KEY,\n",
    "    age_group TEXT,\n",
    "    gender TEXT,\n",
    "    disability_status TEXT,\n",
    "    postcode_area TEXT\n",
    ")\n",
    "''')"
   ]
  },
  {
   "cell_type": "code",
   "execution_count": 13,
   "id": "02e6704b",
   "metadata": {},
   "outputs": [
    {
     "data": {
      "text/plain": [
       "<sqlite3.Cursor at 0x1e8381f9fc0>"
      ]
     },
     "execution_count": 13,
     "metadata": {},
     "output_type": "execute_result"
    }
   ],
   "source": [
    "# Create the 'Referrals' table\n",
    "cursor.execute('''\n",
    "CREATE TABLE IF NOT EXISTS Referrals (\n",
    "    referral_id INTEGER PRIMARY KEY,\n",
    "    client_id INTEGER,\n",
    "    referral_date TEXT,\n",
    "    referral_reason TEXT,\n",
    "    status TEXT,\n",
    "    FOREIGN KEY(client_id) REFERENCES Clients(client_id)\n",
    ")\n",
    "''')\n",
    "\n",
    "# Create the 'Assessments' table\n",
    "cursor.execute('''\n",
    "CREATE TABLE IF NOT EXISTS Assessments (\n",
    "    assessment_id INTEGER PRIMARY KEY,\n",
    "    client_id INTEGER,\n",
    "    start_date TEXT,\n",
    "    end_date TEXT,\n",
    "    wait_days INTEGER,\n",
    "    outcome TEXT,\n",
    "    FOREIGN KEY(client_id) REFERENCES Clients(client_id)\n",
    ")\n",
    "''')\n",
    "\n",
    "# Create the 'Services' table\n",
    "cursor.execute('''\n",
    "CREATE TABLE IF NOT EXISTS Services (\n",
    "    service_id INTEGER PRIMARY KEY,\n",
    "    client_id INTEGER,\n",
    "    service_type TEXT,\n",
    "    weekly_hours INTEGER,\n",
    "    weekly_cost INTEGER,\n",
    "    start_date TEXT,\n",
    "    end_date TEXT,\n",
    "    FOREIGN KEY(client_id) REFERENCES Clients(client_id)\n",
    ")\n",
    "''')"
   ]
  },
  {
   "cell_type": "code",
   "execution_count": 14,
   "id": "57c9cb03",
   "metadata": {},
   "outputs": [],
   "source": [
    "conn.commit()\n",
    "conn.close()"
   ]
  }
 ],
 "metadata": {
  "kernelspec": {
   "display_name": "venv",
   "language": "python",
   "name": "python3"
  },
  "language_info": {
   "codemirror_mode": {
    "name": "ipython",
    "version": 3
   },
   "file_extension": ".py",
   "mimetype": "text/x-python",
   "name": "python",
   "nbconvert_exporter": "python",
   "pygments_lexer": "ipython3",
   "version": "3.13.5"
  }
 },
 "nbformat": 4,
 "nbformat_minor": 5
}
