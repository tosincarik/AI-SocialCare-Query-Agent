{
 "cells": [
  {
   "cell_type": "code",
   "execution_count": 128,
   "id": "2fdabefe",
   "metadata": {},
   "outputs": [],
   "source": [
    "import sqlite3\n",
    "import os\n",
    "from faker import Faker\n",
    "import random\n",
    "import asyncio\n",
    "\n"
   ]
  },
  {
   "cell_type": "code",
   "execution_count": 129,
   "id": "e457e46a",
   "metadata": {},
   "outputs": [],
   "source": [
    "\n",
    "# Ensure the 'data' folder exists\n",
    "os.makedirs('data', exist_ok=True)\n",
    "\n",
    "# Define the database path\n",
    "db_path = os.path.join('data', 'synthetic_socialcare.db')\n",
    "\n",
    "# Connect to the SQLite database (creates the file if it doesn't exist)\n",
    "conn = sqlite3.connect(db_path)\n",
    "cursor = conn.cursor()\n",
    "\n",
    "\n"
   ]
  },
  {
   "cell_type": "markdown",
   "id": "51f6a32e",
   "metadata": {},
   "source": [
    "### Defined SQLite database schema for social care tables: clients, assessments, services, outcomes."
   ]
  },
  {
   "cell_type": "code",
   "execution_count": 130,
   "id": "b52e5c18",
   "metadata": {},
   "outputs": [
    {
     "name": "stdout",
     "output_type": "stream",
     "text": [
      "Tables created successfully.\n"
     ]
    }
   ],
   "source": [
    "\n",
    "# Connect to database (creates file if not exists)\n",
    "conn = sqlite3.connect(\"data/synthetic_socialcare.db\")\n",
    "cursor = conn.cursor()\n",
    "\n",
    "# Drop old tables (if running again for testing)\n",
    "cursor.execute(\"DROP TABLE IF EXISTS clients\")\n",
    "cursor.execute(\"DROP TABLE IF EXISTS assessments\")\n",
    "cursor.execute(\"DROP TABLE IF EXISTS services\")\n",
    "cursor.execute(\"DROP TABLE IF EXISTS outcomes\")\n",
    "\n",
    "# Create Clients table\n",
    "cursor.execute(\"\"\"\n",
    "CREATE TABLE clients (\n",
    "    client_id INTEGER PRIMARY KEY,\n",
    "    name TEXT NOT NULL,\n",
    "    age INTEGER,\n",
    "    gender TEXT,\n",
    "    postcode TEXT\n",
    ")\n",
    "\"\"\")\n",
    "\n",
    "# Create Assessments table\n",
    "cursor.execute(\"\"\"\n",
    "CREATE TABLE assessments (\n",
    "    assessment_id INTEGER PRIMARY KEY AUTOINCREMENT,\n",
    "    client_id INTEGER,\n",
    "    assessment_date TEXT,\n",
    "    assessment_type TEXT,\n",
    "    assessor TEXT,\n",
    "    FOREIGN KEY (client_id) REFERENCES clients(client_id)\n",
    ")\n",
    "\"\"\")\n",
    "\n",
    "# Create Services table\n",
    "cursor.execute(\"\"\"\n",
    "CREATE TABLE services (\n",
    "    service_id INTEGER PRIMARY KEY AUTOINCREMENT,\n",
    "    client_id INTEGER,\n",
    "    service_name TEXT,\n",
    "    start_date TEXT,\n",
    "    end_date TEXT,\n",
    "    provider TEXT,\n",
    "    FOREIGN KEY (client_id) REFERENCES clients(client_id)\n",
    ")\n",
    "\"\"\")\n",
    "\n",
    "# Create Outcomes table\n",
    "cursor.execute(\"\"\"\n",
    "CREATE TABLE outcomes (\n",
    "    outcome_id INTEGER PRIMARY KEY AUTOINCREMENT,\n",
    "    client_id INTEGER,\n",
    "    outcome_date TEXT,\n",
    "    outcome_type TEXT,\n",
    "    outcome_value TEXT,\n",
    "    FOREIGN KEY (client_id) REFERENCES clients(client_id)\n",
    ")\n",
    "\"\"\")\n",
    "\n",
    "# Save changes\n",
    "conn.commit()\n",
    "print(\"Tables created successfully.\")\n",
    "\n",
    "conn.close()\n"
   ]
  },
  {
   "cell_type": "markdown",
   "id": "97a56ae3",
   "metadata": {},
   "source": [
    "### Populated tables with synthetic data using Faker."
   ]
  },
  {
   "cell_type": "code",
   "execution_count": 131,
   "id": "3c8bd151",
   "metadata": {},
   "outputs": [
    {
     "name": "stdout",
     "output_type": "stream",
     "text": [
      "Synthetic data inserted with consistent client_id.\n"
     ]
    },
    {
     "name": "stderr",
     "output_type": "stream",
     "text": [
      "C:\\Users\\Admin\\AppData\\Local\\Temp\\ipykernel_33828\\2531899141.py:23: DeprecationWarning: The default date adapter is deprecated as of Python 3.12; see the sqlite3 documentation for suggested replacement recipes\n",
      "  cursor.execute(\"\"\"\n",
      "C:\\Users\\Admin\\AppData\\Local\\Temp\\ipykernel_33828\\2531899141.py:37: DeprecationWarning: The default date adapter is deprecated as of Python 3.12; see the sqlite3 documentation for suggested replacement recipes\n",
      "  cursor.execute(\"\"\"\n",
      "C:\\Users\\Admin\\AppData\\Local\\Temp\\ipykernel_33828\\2531899141.py:50: DeprecationWarning: The default date adapter is deprecated as of Python 3.12; see the sqlite3 documentation for suggested replacement recipes\n",
      "  cursor.execute(\"\"\"\n"
     ]
    }
   ],
   "source": [
    "\n",
    "# Setup\n",
    "fake = Faker(\"en_GB\")  # UK-style data\n",
    "conn = sqlite3.connect(\"data/synthetic_socialcare.db\")\n",
    "cursor = conn.cursor()\n",
    "\n",
    "# Number of synthetic clients\n",
    "N_CLIENTS = 50\n",
    "\n",
    "for client_id in range(1, N_CLIENTS + 1):\n",
    "    # ---------- CLIENT ----------\n",
    "    name = fake.name()\n",
    "    age = random.randint(18, 95)\n",
    "    gender = random.choice([\"Male\", \"Female\"])\n",
    "    postcode = fake.postcode()\n",
    "    \n",
    "    cursor.execute(\"\"\"\n",
    "    INSERT INTO clients (client_id, name, age, gender, postcode)\n",
    "    VALUES (?, ?, ?, ?, ?)\n",
    "    \"\"\", (client_id, name, age, gender, postcode))\n",
    "    \n",
    "    # ---------- ASSESSMENTS ----------\n",
    "    for _ in range(random.randint(1, 3)):  # 1–3 assessments per client\n",
    "        cursor.execute(\"\"\"\n",
    "        INSERT INTO assessments (client_id, assessment_date, assessment_type, assessor)\n",
    "        VALUES (?, ?, ?, ?)\n",
    "        \"\"\", (\n",
    "            client_id,\n",
    "            fake.date_between(start_date=\"-2y\", end_date=\"today\"),\n",
    "            random.choice([\"Care Act\", \"Financial\", \"Risk\"]),\n",
    "            fake.name()\n",
    "        ))\n",
    "    \n",
    "    # ---------- SERVICES ----------\n",
    "    for _ in range(random.randint(1, 2)):  # 1–2 services per client\n",
    "        start_date = fake.date_between(start_date=\"-2y\", end_date=\"-1m\")\n",
    "        end_date = fake.date_between(start_date=start_date, end_date=\"today\")\n",
    "        cursor.execute(\"\"\"\n",
    "        INSERT INTO services (client_id, service_name, start_date, end_date, provider)\n",
    "        VALUES (?, ?, ?, ?, ?)\n",
    "        \"\"\", (\n",
    "            client_id,\n",
    "            random.choice([\"Home Care\", \"Residential Care\", \"Day Centre\", \"Direct Payment\"]),\n",
    "            start_date,\n",
    "            end_date,\n",
    "            random.choice([\"Local Authority\", \"Private Agency\", \"Charity\"])\n",
    "        ))\n",
    "    \n",
    "    # ---------- OUTCOMES ----------\n",
    "    for _ in range(random.randint(1, 2)):  # 1–2 outcomes per client\n",
    "        cursor.execute(\"\"\"\n",
    "        INSERT INTO outcomes (client_id, outcome_date, outcome_type, outcome_value)\n",
    "        VALUES (?, ?, ?, ?)\n",
    "        \"\"\", (\n",
    "            client_id,\n",
    "            fake.date_between(start_date=\"-1y\", end_date=\"today\"),\n",
    "            random.choice([\"Independence\", \"Wellbeing\", \"Safety\", \"Financial\"]),\n",
    "            random.choice([\"Improved\", \"Maintained\", \"Declined\"])\n",
    "        ))\n",
    "\n",
    "# Save changes\n",
    "conn.commit()\n",
    "print(\"Synthetic data inserted with consistent client_id.\")\n",
    "\n",
    "conn.close()\n"
   ]
  },
  {
   "cell_type": "code",
   "execution_count": 132,
   "id": "73d48476",
   "metadata": {},
   "outputs": [
    {
     "name": "stdout",
     "output_type": "stream",
     "text": [
      "[('sqlite_sequence',), ('clients',), ('assessments',), ('services',), ('outcomes',)]\n"
     ]
    }
   ],
   "source": [
    "\n",
    "conn = sqlite3.connect(\"data/synthetic_socialcare.db\")\n",
    "cursor = conn.cursor()\n",
    "\n",
    "cursor.execute(\"SELECT name FROM sqlite_master WHERE type='table';\")\n",
    "print(cursor.fetchall())\n",
    "\n",
    "conn.close()\n"
   ]
  },
  {
   "cell_type": "code",
   "execution_count": 133,
   "id": "1f216050",
   "metadata": {},
   "outputs": [],
   "source": [
    "# Example schema dictionary\n",
    "schema = {\n",
    "    \"clients\": [\"client_id\", \"name\", \"age\", \"gender\", \"postcode\"],\n",
    "    \"assessments\": [\"assessment_id\", \"client_id\", \"assessment_date\", \"outcome\"],\n",
    "    \"services\": [\"service_id\", \"client_id\", \"service_name\", \"start_date\", \"end_date\"],\n",
    "    \"outcomes\": [\"client_id\", \"outcome_date\", \"outcome_type\", \"outcome_value\"]\n",
    "}\n"
   ]
  },
  {
   "cell_type": "markdown",
   "id": "0a7e4250",
   "metadata": {},
   "source": [
    "## Build AI SQL Generator"
   ]
  },
  {
   "cell_type": "markdown",
   "id": "bccbb0ee",
   "metadata": {},
   "source": [
    "### Setup Environment and API keys"
   ]
  },
  {
   "cell_type": "code",
   "execution_count": 134,
   "id": "93588d7f",
   "metadata": {},
   "outputs": [],
   "source": [
    "from openai import OpenAI\n",
    "from dotenv import load_dotenv\n",
    "from agents import Agent, Runner, trace, function_tool\n",
    "import os\n",
    "import asyncio"
   ]
  },
  {
   "cell_type": "code",
   "execution_count": 135,
   "id": "12535213",
   "metadata": {},
   "outputs": [
    {
     "data": {
      "text/plain": [
       "True"
      ]
     },
     "execution_count": 135,
     "metadata": {},
     "output_type": "execute_result"
    }
   ],
   "source": [
    "load_dotenv(override=True)"
   ]
  },
  {
   "cell_type": "code",
   "execution_count": 136,
   "id": "ca3ef06b",
   "metadata": {},
   "outputs": [
    {
     "name": "stdout",
     "output_type": "stream",
     "text": [
      "The key is found and starts with: sk-proj-\n"
     ]
    }
   ],
   "source": [
    "openaikey = os.getenv(\"OPENAI_API_KEY\")\n",
    "\n",
    "if openaikey:\n",
    "    print(f\"The key is found and starts with: {openaikey[:8]}\")\n",
    "else:\n",
    "    print(f\"Key not found\")"
   ]
  },
  {
   "cell_type": "code",
   "execution_count": null,
   "id": "a83a8831",
   "metadata": {},
   "outputs": [],
   "source": []
  },
  {
   "cell_type": "markdown",
   "id": "cbb26696",
   "metadata": {},
   "source": [
    "#### SQL execution function to run read-only queries on SQLite DB."
   ]
  },
  {
   "cell_type": "code",
   "execution_count": 137,
   "id": "57c39961",
   "metadata": {},
   "outputs": [],
   "source": [
    "@function_tool\n",
    "def execute_sql(query: str):\n",
    "    \"\"\"Run a read-only SQL query on the SQLite DB.\"\"\"\n",
    "    with sqlite3.connect(db_path) as conn:\n",
    "        cursor = conn.cursor()\n",
    "        cursor.execute(query)\n",
    "        rows = cursor.fetchall()\n",
    "        colnames = [desc[0] for desc in cursor.description]\n",
    "    return [dict(zip(colnames, row)) for row in rows]"
   ]
  },
  {
   "cell_type": "markdown",
   "id": "99ddd653",
   "metadata": {},
   "source": [
    "#### Configure Agent instance (QueryExecutor) with gpt-4o-mini model."
   ]
  },
  {
   "cell_type": "code",
   "execution_count": 138,
   "id": "c3349398",
   "metadata": {},
   "outputs": [],
   "source": [
    "instruction1 = f\"\"\"\n",
    "You are a SQL assistant for adult social care data.\n",
    "Always generate SELECT-only SQL for the SQLite schema provided.\n",
    "Never use DROP, INSERT, UPDATE, DELETE, ALTER, ATTACH, or PRAGMA.\n",
    "Return strictly JSON with keys:\n",
    "- sql: the SQL query string\n",
    "- explanation: a short (1-2 sentence) explanation of the query logic\n",
    "Schema reference: {schema}\n",
    "Make sure the output is a single valid JSON object, nothing else.\n",
    "\"\"\"\n"
   ]
  },
  {
   "cell_type": "code",
   "execution_count": 120,
   "id": "ebf9c2c1",
   "metadata": {},
   "outputs": [],
   "source": [
    "Agent1 = Agent(\n",
    "    name = 'QueryExecutor',\n",
    "    instructions = instruction1,\n",
    "    model = \"gpt-4o-mini\"\n",
    ")"
   ]
  },
  {
   "cell_type": "code",
   "execution_count": 121,
   "id": "4b979716",
   "metadata": {},
   "outputs": [
    {
     "data": {
      "text/plain": [
       "Agent(name='QueryExecutor', handoff_description=None, tools=[], mcp_servers=[], mcp_config={}, instructions=\"\\nYou are a SQL assistant for adult social care data.\\nAlways generate SELECT-only SQL for the SQLite schema provided.\\nNever use DROP, INSERT, UPDATE, DELETE, ALTER, ATTACH, or PRAGMA.\\nReturn strictly JSON with keys:\\n- sql: the SQL query string\\n- explanation: a short (1-2 sentence) explanation of the query logic\\nSchema reference: {'clients': ['client_id', 'name', 'age', 'gender', 'postcode'], 'assessments': ['assessment_id', 'client_id', 'assessment_date', 'outcome'], 'services': ['service_id', 'client_id', 'service_name', 'start_date', 'end_date'], 'outcomes': ['client_id', 'outcome_date', 'outcome_type', 'outcome_value']}\\nMake sure the output is a single valid JSON object, nothing else.\\n\", prompt=None, handoffs=[], model='gpt-4o-mini', model_settings=ModelSettings(temperature=None, top_p=None, frequency_penalty=None, presence_penalty=None, tool_choice=None, parallel_tool_calls=None, truncation=None, max_tokens=None, reasoning=None, verbosity=None, metadata=None, store=None, include_usage=None, response_include=None, top_logprobs=None, extra_query=None, extra_body=None, extra_headers=None, extra_args=None), input_guardrails=[], output_guardrails=[], output_type=None, hooks=None, tool_use_behavior='run_llm_again', reset_tool_choice=True)"
      ]
     },
     "execution_count": 121,
     "metadata": {},
     "output_type": "execute_result"
    }
   ],
   "source": [
    "Agent1"
   ]
  },
  {
   "cell_type": "markdown",
   "id": "203887e4",
   "metadata": {},
   "source": [
    "#### LLM-generated SQL queries, executions and results"
   ]
  },
  {
   "cell_type": "code",
   "execution_count": 122,
   "id": "80485cd8",
   "metadata": {},
   "outputs": [
    {
     "name": "stdout",
     "output_type": "stream",
     "text": [
      "{\n",
      "  \"sql\": \"SELECT COUNT(client_id) AS total_clients FROM outcomes;\",\n",
      "  \"explanation\": \"This query counts all unique client IDs in the outcomes table, providing the total number of clients recorded.\"\n",
      "}\n"
     ]
    }
   ],
   "source": [
    "result = await Runner.run(Agent1, \"Count all client ID in outcome table\")\n",
    "\n",
    "print(result.final_output)"
   ]
  },
  {
   "cell_type": "code",
   "execution_count": 123,
   "id": "bc2d87e3",
   "metadata": {},
   "outputs": [
    {
     "name": "stdout",
     "output_type": "stream",
     "text": [
      "Raw LLM output: '{\\n  \"sql\": \"SELECT COUNT(client_id) AS total_clients FROM outcomes;\",\\n  \"explanation\": \"This query counts all unique client IDs in the outcomes table, providing the total number of clients recorded.\"\\n}'\n"
     ]
    }
   ],
   "source": [
    "print(\"Raw LLM output:\", repr(result.final_output))\n"
   ]
  },
  {
   "cell_type": "code",
   "execution_count": 124,
   "id": "fb16b76c",
   "metadata": {},
   "outputs": [],
   "source": [
    "import json\n",
    "\n",
    "clean_output = result.final_output.strip().strip('\"')\n",
    "parsed_result = json.loads(clean_output)"
   ]
  },
  {
   "cell_type": "code",
   "execution_count": 125,
   "id": "45cb4e58",
   "metadata": {},
   "outputs": [],
   "source": [
    "# Now you can access keys\n",
    "sql_query = parsed_result[\"sql\"]\n",
    "explanation = parsed_result[\"explanation\"]"
   ]
  },
  {
   "cell_type": "code",
   "execution_count": 126,
   "id": "ca903374",
   "metadata": {},
   "outputs": [
    {
     "name": "stdout",
     "output_type": "stream",
     "text": [
      "🔹 Generated SQL: SELECT COUNT(client_id) AS total_clients FROM outcomes;\n",
      "🔹 Executed Results: [{'total_clients': 79}]\n"
     ]
    }
   ],
   "source": [
    "# 🔹 Execute SQL\n",
    "query_results = execute_sql(sql_query)\n",
    "\n",
    "# Now you have BOTH:\n",
    "print(\"🔹 Generated SQL:\", sql_query)\n",
    "#print(\"🔹 Agent Explanation:\", result.final_output[\"explanation\"])\n",
    "print(\"🔹 Executed Results:\", query_results)"
   ]
  },
  {
   "cell_type": "code",
   "execution_count": 127,
   "id": "660ca713",
   "metadata": {},
   "outputs": [
    {
     "name": "stdout",
     "output_type": "stream",
     "text": [
      "clients rows: 50\n",
      "services rows: 73\n",
      "outcomes rows: 79\n"
     ]
    }
   ],
   "source": [
    "with sqlite3.connect(db_path) as conn:\n",
    "    cursor = conn.cursor()\n",
    "    tables = [\"clients\", \"services\", \"outcomes\"]\n",
    "    for t in tables:\n",
    "        cursor.execute(f\"SELECT COUNT(*) FROM {t}\")\n",
    "        print(f\"{t} rows:\", cursor.fetchone()[0])\n"
   ]
  }
 ],
 "metadata": {
  "kernelspec": {
   "display_name": ".venv",
   "language": "python",
   "name": "python3"
  },
  "language_info": {
   "codemirror_mode": {
    "name": "ipython",
    "version": 3
   },
   "file_extension": ".py",
   "mimetype": "text/x-python",
   "name": "python",
   "nbconvert_exporter": "python",
   "pygments_lexer": "ipython3",
   "version": "3.13.7"
  }
 },
 "nbformat": 4,
 "nbformat_minor": 5
}
