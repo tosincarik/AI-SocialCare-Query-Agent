{
 "cells": [
  {
   "cell_type": "code",
   "execution_count": null,
   "id": "2fdabefe",
   "metadata": {},
   "outputs": [],
   "source": [
    "import sqlite3\n",
    "import os\n",
    "from faker import Faker\n",
    "import random\n",
    "import asyncio\n",
    "\n"
   ]
  },
  {
   "cell_type": "code",
   "execution_count": 3,
   "id": "e457e46a",
   "metadata": {},
   "outputs": [],
   "source": [
    "\n",
    "# Ensure the 'data' folder exists\n",
    "os.makedirs('data', exist_ok=True)\n",
    "\n",
    "# Define the database path\n",
    "db_path = os.path.join('data', 'synthetic_socialcare2.db')\n",
    "\n",
    "# Connect to the SQLite database (creates the file if it doesn't exist)\n",
    "conn = sqlite3.connect(db_path)\n",
    "cursor = conn.cursor()\n",
    "\n",
    "\n"
   ]
  },
  {
   "cell_type": "markdown",
   "id": "51f6a32e",
   "metadata": {},
   "source": [
    "### Defined SQLite database schema for social care tables: clients, assessments, services, outcomes."
   ]
  },
  {
   "cell_type": "code",
   "execution_count": 4,
   "id": "b52e5c18",
   "metadata": {},
   "outputs": [
    {
     "name": "stdout",
     "output_type": "stream",
     "text": [
      "Tables created successfully.\n"
     ]
    }
   ],
   "source": [
    "\n",
    "# Connect to database (creates file if not exists)\n",
    "conn = sqlite3.connect(\"data/synthetic_socialcare2.db\")\n",
    "cursor = conn.cursor()\n",
    "\n",
    "# Drop old tables (if running again for testing)\n",
    "cursor.execute(\"DROP TABLE IF EXISTS clients\")\n",
    "cursor.execute(\"DROP TABLE IF EXISTS assessments\")\n",
    "cursor.execute(\"DROP TABLE IF EXISTS services\")\n",
    "cursor.execute(\"DROP TABLE IF EXISTS outcomes\")\n",
    "\n",
    "# Create Clients table\n",
    "cursor.execute(\"\"\"\n",
    "CREATE TABLE clients (\n",
    "    client_id INTEGER PRIMARY KEY,\n",
    "    name TEXT NOT NULL,\n",
    "    age INTEGER,\n",
    "    gender TEXT,\n",
    "    postcode TEXT\n",
    ")\n",
    "\"\"\")\n",
    "\n",
    "# Create Assessments table\n",
    "cursor.execute(\"\"\"\n",
    "CREATE TABLE assessments (\n",
    "    assessment_id INTEGER PRIMARY KEY AUTOINCREMENT,\n",
    "    client_id INTEGER,\n",
    "    assessment_date TEXT,\n",
    "    assessment_type TEXT,\n",
    "    assessor TEXT,\n",
    "    FOREIGN KEY (client_id) REFERENCES clients(client_id)\n",
    ")\n",
    "\"\"\")\n",
    "\n",
    "# Create Services table\n",
    "cursor.execute(\"\"\"\n",
    "CREATE TABLE services (\n",
    "    service_id INTEGER PRIMARY KEY AUTOINCREMENT,\n",
    "    client_id INTEGER,\n",
    "    service_name TEXT,\n",
    "    start_date TEXT,\n",
    "    end_date TEXT,\n",
    "    provider TEXT,\n",
    "    FOREIGN KEY (client_id) REFERENCES clients(client_id)\n",
    ")\n",
    "\"\"\")\n",
    "\n",
    "# Create Outcomes table\n",
    "cursor.execute(\"\"\"\n",
    "CREATE TABLE outcomes (\n",
    "    outcome_id INTEGER PRIMARY KEY AUTOINCREMENT,\n",
    "    client_id INTEGER,\n",
    "    outcome_date TEXT,\n",
    "    outcome_type TEXT,\n",
    "    outcome_value TEXT,\n",
    "    FOREIGN KEY (client_id) REFERENCES clients(client_id)\n",
    ")\n",
    "\"\"\")\n",
    "\n",
    "# Save changes\n",
    "conn.commit()\n",
    "print(\"Tables created successfully.\")\n",
    "\n",
    "conn.close()\n"
   ]
  },
  {
   "cell_type": "markdown",
   "id": "97a56ae3",
   "metadata": {},
   "source": [
    "### Populated tables with synthetic data using Faker."
   ]
  },
  {
   "cell_type": "code",
   "execution_count": 5,
   "id": "3c8bd151",
   "metadata": {},
   "outputs": [
    {
     "name": "stdout",
     "output_type": "stream",
     "text": [
      "Synthetic data inserted with consistent client_id.\n"
     ]
    },
    {
     "name": "stderr",
     "output_type": "stream",
     "text": [
      "C:\\Users\\Admin\\AppData\\Local\\Temp\\ipykernel_23528\\4038071988.py:23: DeprecationWarning: The default date adapter is deprecated as of Python 3.12; see the sqlite3 documentation for suggested replacement recipes\n",
      "  cursor.execute(\"\"\"\n",
      "C:\\Users\\Admin\\AppData\\Local\\Temp\\ipykernel_23528\\4038071988.py:37: DeprecationWarning: The default date adapter is deprecated as of Python 3.12; see the sqlite3 documentation for suggested replacement recipes\n",
      "  cursor.execute(\"\"\"\n",
      "C:\\Users\\Admin\\AppData\\Local\\Temp\\ipykernel_23528\\4038071988.py:50: DeprecationWarning: The default date adapter is deprecated as of Python 3.12; see the sqlite3 documentation for suggested replacement recipes\n",
      "  cursor.execute(\"\"\"\n"
     ]
    }
   ],
   "source": [
    "\n",
    "# Setup\n",
    "fake = Faker(\"en_GB\")  # UK-style data\n",
    "conn = sqlite3.connect(\"data/synthetic_socialcare2.db\")\n",
    "cursor = conn.cursor()\n",
    "\n",
    "# Number of synthetic clients\n",
    "N_CLIENTS = 50\n",
    "\n",
    "for client_id in range(1, N_CLIENTS + 1):\n",
    "    # ---------- CLIENT ----------\n",
    "    name = fake.name()\n",
    "    age = random.randint(18, 95)\n",
    "    gender = random.choice([\"Male\", \"Female\"])\n",
    "    postcode = fake.postcode()\n",
    "    \n",
    "    cursor.execute(\"\"\"\n",
    "    INSERT INTO clients (client_id, name, age, gender, postcode)\n",
    "    VALUES (?, ?, ?, ?, ?)\n",
    "    \"\"\", (client_id, name, age, gender, postcode))\n",
    "    \n",
    "    # ---------- ASSESSMENTS ----------\n",
    "    for _ in range(random.randint(1, 3)):  # 1–3 assessments per client\n",
    "        cursor.execute(\"\"\"\n",
    "        INSERT INTO assessments (client_id, assessment_date, assessment_type, assessor)\n",
    "        VALUES (?, ?, ?, ?)\n",
    "        \"\"\", (\n",
    "            client_id,\n",
    "            fake.date_between(start_date=\"-2y\", end_date=\"today\"),\n",
    "            random.choice([\"Care Act\", \"Financial\", \"Risk\"]),\n",
    "            fake.name()\n",
    "        ))\n",
    "    \n",
    "    # ---------- SERVICES ----------\n",
    "    for _ in range(random.randint(1, 2)):  # 1–2 services per client\n",
    "        start_date = fake.date_between(start_date=\"-2y\", end_date=\"-1m\")\n",
    "        end_date = fake.date_between(start_date=start_date, end_date=\"today\")\n",
    "        cursor.execute(\"\"\"\n",
    "        INSERT INTO services (client_id, service_name, start_date, end_date, provider)\n",
    "        VALUES (?, ?, ?, ?, ?)\n",
    "        \"\"\", (\n",
    "            client_id,\n",
    "            random.choice([\"Home Care\", \"Residential Care\", \"Day Centre\", \"Direct Payment\"]),\n",
    "            start_date,\n",
    "            end_date,\n",
    "            random.choice([\"Local Authority\", \"Private Agency\", \"Charity\"])\n",
    "        ))\n",
    "    \n",
    "    # ---------- OUTCOMES ----------\n",
    "    for _ in range(random.randint(1, 2)):  # 1–2 outcomes per client\n",
    "        cursor.execute(\"\"\"\n",
    "        INSERT INTO outcomes (client_id, outcome_date, outcome_type, outcome_value)\n",
    "        VALUES (?, ?, ?, ?)\n",
    "        \"\"\", (\n",
    "            client_id,\n",
    "            fake.date_between(start_date=\"-1y\", end_date=\"today\"),\n",
    "            random.choice([\"Independence\", \"Wellbeing\", \"Safety\", \"Financial\"]),\n",
    "            random.choice([\"Improved\", \"Maintained\", \"Declined\"])\n",
    "        ))\n",
    "\n",
    "# Save changes\n",
    "conn.commit()\n",
    "print(\"Synthetic data inserted with consistent client_id.\")\n",
    "\n",
    "conn.close()\n"
   ]
  },
  {
   "cell_type": "code",
   "execution_count": 6,
   "id": "73d48476",
   "metadata": {},
   "outputs": [
    {
     "name": "stdout",
     "output_type": "stream",
     "text": [
      "[('sqlite_sequence',), ('clients',), ('assessments',), ('services',), ('outcomes',)]\n"
     ]
    }
   ],
   "source": [
    "\n",
    "conn = sqlite3.connect(\"data/synthetic_socialcare2.db\")\n",
    "cursor = conn.cursor()\n",
    "\n",
    "cursor.execute(\"SELECT name FROM sqlite_master WHERE type='table';\")\n",
    "print(cursor.fetchall())\n",
    "\n",
    "conn.close()\n"
   ]
  },
  {
   "cell_type": "code",
   "execution_count": 7,
   "id": "1f216050",
   "metadata": {},
   "outputs": [],
   "source": [
    "# Example schema dictionary\n",
    "schema = {\n",
    "    \"clients\": [\"client_id\", \"name\", \"age\", \"gender\", \"postcode\"],\n",
    "    \"assessments\": [\"assessment_id\", \"client_id\", \"assessment_date\", \"outcome\"],\n",
    "    \"services\": [\"service_id\", \"client_id\", \"service_name\", \"start_date\", \"end_date\"],\n",
    "    \"outcomes\": [\"client_id\", \"outcome_date\", \"outcome_type\", \"outcome_value\"]\n",
    "}\n"
   ]
  },
  {
   "cell_type": "markdown",
   "id": "0a7e4250",
   "metadata": {},
   "source": [
    "## Build AI SQL Generator"
   ]
  },
  {
   "cell_type": "markdown",
   "id": "bccbb0ee",
   "metadata": {},
   "source": [
    "### Setup Environment and API keys"
   ]
  },
  {
   "cell_type": "code",
   "execution_count": 8,
   "id": "93588d7f",
   "metadata": {},
   "outputs": [],
   "source": [
    "from openai import OpenAI\n",
    "from dotenv import load_dotenv\n",
    "from agents import Agent, Runner, trace, function_tool\n",
    "import os\n",
    "import asyncio"
   ]
  },
  {
   "cell_type": "code",
   "execution_count": 12,
   "id": "12535213",
   "metadata": {},
   "outputs": [
    {
     "data": {
      "text/plain": [
       "True"
      ]
     },
     "execution_count": 12,
     "metadata": {},
     "output_type": "execute_result"
    }
   ],
   "source": [
    "load_dotenv(override=True)"
   ]
  },
  {
   "cell_type": "code",
   "execution_count": 13,
   "id": "ca3ef06b",
   "metadata": {},
   "outputs": [
    {
     "name": "stdout",
     "output_type": "stream",
     "text": [
      "The key is found and starts with: sk-proj-57eLufzePvX5\n"
     ]
    }
   ],
   "source": [
    "openaikey = os.getenv(\"OPENAI_API_KEY\")\n",
    "\n",
    "if openaikey:\n",
    "    print(f\"The key is found and starts with: {openaikey[:20]}\")\n",
    "else:\n",
    "    print(f\"Key not found\")"
   ]
  },
  {
   "cell_type": "markdown",
   "id": "cbb26696",
   "metadata": {},
   "source": [
    "#### SQL execution function to run read-only queries on SQLite DB."
   ]
  },
  {
   "cell_type": "code",
   "execution_count": 14,
   "id": "57c39961",
   "metadata": {},
   "outputs": [],
   "source": [
    " @function_tool\n",
    " def execute_sql(query: str):\n",
    "    \"\"\"Run a read-only SQL query on the SQLite DB.\"\"\"\n",
    "    with sqlite3.connect(db_path) as conn:\n",
    "        cursor = conn.cursor()\n",
    "        cursor.execute(query)\n",
    "        rows = cursor.fetchall()\n",
    "        colnames = [desc[0] for desc in cursor.description]\n",
    "    return [dict(zip(colnames, row)) for row in rows]"
   ]
  },
  {
   "cell_type": "markdown",
   "id": "99ddd653",
   "metadata": {},
   "source": [
    "#### Configure Agent instance (QueryExecutor) with gpt-4o-mini model."
   ]
  },
  {
   "cell_type": "code",
   "execution_count": 15,
   "id": "c3349398",
   "metadata": {},
   "outputs": [],
   "source": [
    "instruction1 = f\"\"\"\n",
    "You are a SQL assistant for adult social care data.\n",
    "Always generate SELECT-only SQL for the SQLite schema provided.\n",
    "Never use DROP, INSERT, UPDATE, DELETE, ALTER, ATTACH, or PRAGMA.\n",
    "Return strictly JSON with keys:\n",
    "- sql: the SQL query string\n",
    "- explanation: a short (1-2 sentence) explanation of the query logic\n",
    "Schema reference: {schema}\n",
    "Make sure the output is a single valid JSON object, nothing else.\n",
    "\"\"\"\n"
   ]
  },
  {
   "cell_type": "code",
   "execution_count": 16,
   "id": "ebf9c2c1",
   "metadata": {},
   "outputs": [],
   "source": [
    "Agent1 = Agent(\n",
    "    name = 'QueryExecutor',\n",
    "    instructions = instruction1,\n",
    "    model = \"gpt-4o-mini\"\n",
    ")\n",
    "\n",
    "tool1=Agent1.as_tool(tool_name='instruct', tool_description=instruction1)"
   ]
  },
  {
   "cell_type": "code",
   "execution_count": 17,
   "id": "af236dd7",
   "metadata": {},
   "outputs": [],
   "source": [
    "tools = [tool1,execute_sql]"
   ]
  },
  {
   "cell_type": "code",
   "execution_count": 18,
   "id": "1002c64f",
   "metadata": {},
   "outputs": [
    {
     "name": "stdout",
     "output_type": "stream",
     "text": [
      "Here is the list of adults aged over 20 years along with their service outcomes:\n",
      "\n",
      "| Client ID | Name                     | Age | Service Name       | Outcome Type  | Outcome Value  |\n",
      "|-----------|--------------------------|-----|--------------------|----------------|-----------------|\n",
      "| 1         | Mr Leslie Stephens       | 66  | Direct Payment      | Financial       | Maintained      |\n",
      "| 2         | Trevor Roberts           | 47  | Residential Care    | Safety          | Improved        |\n",
      "| 3         | Mr Neil White            | 79  | Residential Care    | Financial       | Maintained      |\n",
      "| 3         | Mr Neil White            | 79  | Residential Care    | Safety          | Improved        |\n",
      "| 4         | Edward Davies-Hayes      | 56  | Day Centre          | Safety          | Declined        |\n",
      "| 5         | Damien Russell           | 73  | Residential Care    | Safety          | Maintained      |\n",
      "| 6         | Kathryn Carter           | 73  | Home Care           | Safety          | Declined        |\n",
      "| 6         | Kathryn Carter           | 73  | Home Care           | Wellbeing       | Declined        |\n",
      "| 6         | Kathryn Carter           | 73  | Home Care           | Safety          | Declined        |\n",
      "| 6         | Kathryn Carter           | 73  | Home Care           | Wellbeing       | Declined        |\n",
      "| 7         | Shirley Mason            | 61  | Day Centre          | Safety          | Improved        |\n",
      "| 7         | Shirley Mason            | 61  | Day Centre          | Safety          | Improved        |\n",
      "| 8         | Miss Charlotte Rees      | 56  | Direct Payment      | Independence    | Declined        |\n",
      "| 8         | Miss Charlotte Rees      | 56  | Direct Payment      | Independence    | Declined        |\n",
      "| 9         | Shannon Johnston         | 67  | Day Centre          | Financial       | Maintained      |\n",
      "| 9         | Shannon Johnston         | 67  | Day Centre          | Safety          | Improved        |\n",
      "| 10        | Dylan Lawrence-Davis     | 70  | Day Centre          | Independence    | Maintained      |\n",
      "| 11        | Katie Allen              | 83  | Direct Payment      | Safety          | Improved        |\n",
      "| 11        | Katie Allen              | 83  | Direct Payment      | Wellbeing       | Maintained      |\n",
      "| 12        | Tom Harding              | 79  | Home Care           | Wellbeing       | Declined        |\n",
      "| 12        | Tom Harding              | 79  | Home Care           | Wellbeing       | Declined        |\n",
      "| 13        | Antony Dawson            | 59  | Home Care           | Financial       | Declined        |\n",
      "| 13        | Antony Dawson            | 59  | Home Care           | Wellbeing       | Improved        |\n",
      "| 14        | Mr Justin Davies         | 55  | Day Centre          | Safety          | Declined        |\n",
      "| 14        | Mr Justin Davies         | 55  | Day Centre          | Safety          | Declined        |\n",
      "| 14        | Mr Justin Davies         | 55  | Home Care           | Safety          | Declined        |\n",
      "| 14        | Mr Justin Davies         | 55  | Home Care           | Safety          | Declined        |\n",
      "| 15        | Dr Anthony Parry         | 46  | Direct Payment      | Independence    | Maintained      |\n",
      "| 15        | Dr Anthony Parry         | 46  | Direct Payment      | Independence    | Maintained      |\n",
      "| 16        | Jack Hart                | 23  | Direct Payment      | Financial       | Maintained      |\n",
      "| 16        | Jack Hart                | 23  | Day Centre          | Financial       | Maintained      |\n",
      "| 17        | Dr Mitchell Hill         | 49  | Direct Payment      | Wellbeing       | Improved        |\n",
      "| 18        | Dr Wayne Sutton          | 79  | Residential Care    | Independence    | Improved        |\n",
      "| 18        | Dr Wayne Sutton          | 79  | Direct Payment      | Independence    | Improved        |\n",
      "| 19        | Samantha Watts           | 85  | Day Centre          | Wellbeing       | Maintained      |\n",
      "| 19        | Samantha Watts           | 85  | Residential Care    | Wellbeing       | Maintained      |\n",
      "| 20        | Mr Sean Pearce          | 62  | Day Centre          | Safety          | Improved        |\n",
      "| 20        | Mr Sean Pearce          | 62  | Day Centre          | Safety          | Improved        |\n",
      "| 20        | Mr Sean Pearce          | 62  | Day Centre          | Safety          | Improved        |\n",
      "| 20        | Mr Sean Pearce          | 62  | Day Centre          | Safety          | Improved        |\n",
      "| 21        | Francesca Bailey         | 83  | Day Centre          | Independence    | Improved        |\n",
      "| 21        | Francesca Bailey         | 83  | Residential Care    | Independence    | Improved        |\n",
      "| 22        | Wayne Dunn               | 93  | Day Centre          | Independence    | Maintained      |\n",
      "| 22        | Wayne Dunn               | 93  | Day Centre          | Safety          | Improved        |\n",
      "| 23        | Ms Kim Moore             | 41  | Day Centre          | Safety          | Declined        |\n",
      "| 24        | Craig Gibson-Parkin      | 92  | Direct Payment      | Safety          | Declined        |\n",
      "| 24        | Craig Gibson-Parkin      | 92  | Direct Payment      | Wellbeing       | Declined        |\n",
      "| 25        | Hugh Pearson-Palmer      | 70  | Residential Care    | Financial       | Declined        |\n",
      "| 25        | Hugh Pearson-Palmer      | 70  | Residential Care    | Safety          | Improved        |\n",
      "| 26        | Lewis James              | 80  | Home Care           | Independence    | Maintained      |\n",
      "| 26        | Lewis James              | 80  | Home Care           | Independence    | Maintained      |\n",
      "| 27        | Carolyn Hussain          | 37  | Residential Care    | Financial       | Improved        |\n",
      "| 28        | Dr Malcolm Bailey        | 62  | Home Care           | Independence    | Maintained      |\n",
      "| 28        | Dr Malcolm Bailey        | 62  | Home Care           | Safety          | Declined        |\n",
      "| 29        | Mr Gareth Clark          | 79  | Home Care           | Safety          | Maintained      |\n",
      "| 29        | Mr Gareth Clark          | 79  | Home Care           | Safety          | Maintained      |\n",
      "| 29        | Mr Gareth Clark          | 79  | Day Centre          | Safety          | Maintained      |\n",
      "| 29        | Mr Gareth Clark          | 79  | Day Centre          | Safety          | Maintained      |\n",
      "| 30        | Dr Beverley Hamilton      | 90  | Day Centre          | Safety          | Maintained      |\n",
      "| 30        | Dr Beverley Hamilton      | 90  | Home Care           | Safety          | Maintained      |\n",
      "| 31        | Dr Gerard Hussain         | 72  | Home Care           | Independence    | Maintained      |\n",
      "| 31        | Dr Gerard Hussain         | 72  | Day Centre          | Independence    | Maintained      |\n",
      "| 32        | Max Ward                  | 92  | Residential Care    | Independence    | Improved        |\n",
      "| 32        | Max Ward                  | 92  | Direct Payment      | Independence    | Improved        |\n",
      "| 33        | Mr Joshua Short           | 89  | Day Centre          | Independence    | Declined        |\n",
      "| 33        | Mr Joshua Short           | 89  | Direct Payment      | Independence    | Declined        |\n",
      "| 35        | Jacob Joyce               | 95  | Direct Payment      | Financial       | Declined        |\n",
      "| 36        | Ross Evans-Jarvis        | 59  | Day Centre          | Independence    | Improved        |\n",
      "| 36        | Ross Evans-Jarvis        | 59  | Day Centre          | Safety          | Declined        |\n",
      "| 36        | Ross Evans-Jarvis        | 59  | Home Care           | Independence    | Improved        |\n",
      "| 36        | Ross Evans-Jarvis        | 59  | Home Care           | Safety          | Declined        |\n",
      "| 37        | Elizabeth Jones          | 21  | Residential Care    | Financial       | Declined        |\n",
      "| 37        | Elizabeth Jones          | 21  | Day Centre          | Financial       | Declined        |\n",
      "| 38        | Mr Jonathan Jones        | 65  | Home Care           | Financial       | Improved        |\n",
      "| 38        | Mr Jonathan Jones        | 65  | Home Care           | Safety          | Maintained      |\n",
      "| 38        | Mr Jonathan Jones        | 65  | Day Centre          | Financial       | Improved        |\n",
      "| 38        | Mr Jonathan Jones        | 65  | Day Centre          | Safety          | Maintained      |\n",
      "| 39        | Dr Peter Bennett         | 42  | Direct Payment      | Independence    | Declined        |\n",
      "| 40        | Jay Cox                  | 70  | Day Centre          | Wellbeing       | Improved        |\n",
      "| 40        | Jay Cox                  | 70  | Home Care           | Wellbeing       | Improved        |\n",
      "| 41        | Mr Antony Morris         | 63  | Day Centre          | Financial       | Declined        |\n",
      "| 41        | Mr Antony Morris         | 63  | Day Centre          | Independence    | Improved        |\n",
      "| 41        | Mr Antony Morris         | 63  | Day Centre          | Financial       | Declined        |\n",
      "| 41        | Mr Antony Morris         | 63  | Day Centre          | Independence    | Improved        |\n",
      "| 42        | Miss Lauren Hall         | 43  | Home Care           | Financial       | Maintained      |\n",
      "| 43        | Mr Stanley Clarke        | 66  | Day Centre          | Independence    | Improved        |\n",
      "| 43        | Mr Stanley Clarke        | 66  | Day Centre          | Independence    | Maintained      |\n",
      "| 43        | Mr Stanley Clarke        | 66  | Home Care           | Independence    | Improved        |\n",
      "| 43        | Mr Stanley Clarke        | 66  | Home Care           | Independence    | Maintained      |\n",
      "| 44        | Nigel Flynn-Simpson      | 47  | Residential Care    | Financial       | Improved        |\n",
      "| 44        | Nigel Flynn-Simpson      | 47  | Residential Care    | Independence    | Maintained      |\n",
      "| 44        | Nigel Flynn-Simpson      | 47  | Residential Care    | Financial       | Improved        |\n",
      "| 44        | Nigel Flynn-Simpson      | 47  | Residential Care    | Independence    | Maintained      |\n",
      "| 45        | Frank Thomas             | 75  | Day Centre          | Financial       | Declined        |\n",
      "| 45        | Frank Thomas             | 75  | Day Centre          | Safety          | Maintained      |\n",
      "| 46        | Kirsty Walsh             | 46  | Direct Payment      | Financial       | Declined        |\n",
      "| 46        | Kirsty Walsh             | 46  | Direct Payment      | Wellbeing       | Improved        |\n",
      "| 47        | Dr Leon Hammond          | 88  | Direct Payment      | Independence    | Maintained      |\n",
      "| 47        | Dr Leon Hammond          | 88  | Direct Payment      | Safety          | Improved        |\n",
      "| 47        | Dr Leon Hammond          | 88  | Day Centre          | Independence    | Maintained      |\n",
      "| 47        | Dr Leon Hammond          | 88  | Day Centre          | Safety          | Improved        |\n",
      "| 48        | Ms Chloe White           | 94  | Residential Care    | Safety          | Improved        |\n",
      "| 48        | Ms Chloe White           | 94  | Residential Care    | Wellbeing       | Improved        |\n",
      "| 48        | Ms Chloe White           | 94  | Day Centre          | Safety          | Improved        |\n",
      "| 48        | Ms Chloe White           | 94  | Day Centre          | Wellbeing       | Improved        |\n"
     ]
    }
   ],
   "source": [
    "instruction2 = \"You are to execute the SQL query you generate and return a clean formatted table. Use the tools provided to you\"\n",
    "\n",
    "resultagent = Agent(\n",
    "    name = \"strictinstruct\",\n",
    "    instructions = instruction2,\n",
    "    tools=tools,\n",
    "    model = 'gpt-4o-mini'\n",
    ")\n",
    "\n",
    "message = \"List the adults aged over 20 years with their service outcome\"\n",
    "\n",
    "with trace(\"resultfinder\"):\n",
    "    result = await Runner.run(resultagent, message)\n",
    "    print(result.final_output)\n"
   ]
  },
  {
   "cell_type": "code",
   "execution_count": null,
   "id": "f63fc0a5",
   "metadata": {},
   "outputs": [],
   "source": [
    "pip install streamlit\n"
   ]
  },
  {
   "cell_type": "code",
   "execution_count": 22,
   "id": "f21724d4",
   "metadata": {},
   "outputs": [
    {
     "name": "stderr",
     "output_type": "stream",
     "text": [
      "2025-09-20 16:14:13.034 Thread 'MainThread': missing ScriptRunContext! This warning can be ignored when running in bare mode.\n",
      "2025-09-20 16:14:13.040 Thread 'MainThread': missing ScriptRunContext! This warning can be ignored when running in bare mode.\n",
      "2025-09-20 16:14:13.041 Thread 'MainThread': missing ScriptRunContext! This warning can be ignored when running in bare mode.\n",
      "2025-09-20 16:14:13.042 Thread 'MainThread': missing ScriptRunContext! This warning can be ignored when running in bare mode.\n",
      "2025-09-20 16:14:13.042 Thread 'MainThread': missing ScriptRunContext! This warning can be ignored when running in bare mode.\n",
      "2025-09-20 16:14:13.043 Thread 'MainThread': missing ScriptRunContext! This warning can be ignored when running in bare mode.\n",
      "2025-09-20 16:14:13.044 Thread 'MainThread': missing ScriptRunContext! This warning can be ignored when running in bare mode.\n",
      "2025-09-20 16:14:13.045 Thread 'MainThread': missing ScriptRunContext! This warning can be ignored when running in bare mode.\n",
      "2025-09-20 16:14:13.045 Thread 'MainThread': missing ScriptRunContext! This warning can be ignored when running in bare mode.\n",
      "2025-09-20 16:14:13.046 Thread 'MainThread': missing ScriptRunContext! This warning can be ignored when running in bare mode.\n",
      "2025-09-20 16:14:13.046 Thread 'MainThread': missing ScriptRunContext! This warning can be ignored when running in bare mode.\n"
     ]
    }
   ],
   "source": [
    "import streamlit as st\n",
    "import asyncio\n",
    "\n",
    "st.title(\"Social Care Query Agent\")\n",
    "\n",
    "# Keep conversation history in session state\n",
    "if \"messages\" not in st.session_state:\n",
    "    st.session_state[\"messages\"] = []\n",
    "\n",
    "# Display conversation\n",
    "for msg in st.session_state.messages:\n",
    "    with st.chat_message(msg[\"role\"]):\n",
    "        st.markdown(msg[\"content\"])\n",
    "\n",
    "# Chat input\n",
    "if prompt := st.chat_input(\"Ask me about the social care database...\"):\n",
    "    # Save user message\n",
    "    st.session_state[\"messages\"].append({\"role\": \"user\", \"content\": prompt})\n",
    "    with st.chat_message(\"user\"):\n",
    "        st.markdown(prompt)\n",
    "\n",
    "    # Placeholder for assistant reply\n",
    "    with st.chat_message(\"assistant\"):\n",
    "        placeholder = st.empty()\n",
    "        placeholder.markdown(\"⏳ Querying database...\")\n",
    "\n",
    "        # Run the async agent\n",
    "        async def run_agent():\n",
    "            result = await Runner.run(resultagent, prompt)\n",
    "            return result.final_output\n",
    "\n",
    "        try:\n",
    "            loop = asyncio.new_event_loop()\n",
    "            asyncio.set_event_loop(loop)\n",
    "            output = loop.run_until_complete(run_agent())\n",
    "        except Exception as e:\n",
    "            output = f\"⚠️ Error: {str(e)}\"\n",
    "        finally:\n",
    "            loop.close()\n",
    "\n",
    "        # Replace with agent output\n",
    "        placeholder.markdown(output)\n",
    "\n",
    "    # Save assistant response\n",
    "    st.session_state[\"messages\"].append({\"role\": \"assistant\", \"content\": output})\n"
   ]
  },
  {
   "cell_type": "markdown",
   "id": "203887e4",
   "metadata": {},
   "source": [
    "#### LLM-generated SQL queries, executions and results"
   ]
  },
  {
   "cell_type": "code",
   "execution_count": 24,
   "id": "660ca713",
   "metadata": {},
   "outputs": [
    {
     "name": "stdout",
     "output_type": "stream",
     "text": [
      "clients rows: 50\n",
      "services rows: 76\n",
      "outcomes rows: 73\n"
     ]
    }
   ],
   "source": [
    "with sqlite3.connect(db_path) as conn:\n",
    "    cursor = conn.cursor()\n",
    "    tables = [\"clients\", \"services\", \"outcomes\"]\n",
    "    for t in tables:\n",
    "        cursor.execute(f\"SELECT COUNT(*) FROM {t}\")\n",
    "        print(f\"{t} rows:\", cursor.fetchone()[0])\n"
   ]
  }
 ],
 "metadata": {
  "kernelspec": {
   "display_name": ".venv",
   "language": "python",
   "name": "python3"
  },
  "language_info": {
   "codemirror_mode": {
    "name": "ipython",
    "version": 3
   },
   "file_extension": ".py",
   "mimetype": "text/x-python",
   "name": "python",
   "nbconvert_exporter": "python",
   "pygments_lexer": "ipython3",
   "version": "3.13.7"
  }
 },
 "nbformat": 4,
 "nbformat_minor": 5
}
